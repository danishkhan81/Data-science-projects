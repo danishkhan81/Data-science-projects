{
 "cells": [
  {
   "cell_type": "markdown",
   "id": "e5675222",
   "metadata": {},
   "source": [
    "# create an Instagram Recommendation System with Machine Learning using Python.\n",
    "One of the reasons behind the popularity of Instagram is its recommendation system. It helps in grabbing the attention of the user for a longer time."
   ]
  },
  {
   "cell_type": "markdown",
   "id": "6d3f01ec",
   "metadata": {},
   "source": [
    "The suggested posts you see on Instagram are recommended based on your activities on Instagram, such as:\n",
    "\n",
    "What kind of accounts do you follow, and what kind of posts do you engage with\n",
    "The caption of the posts that you engage with also plays a role in suggesting more similar posts\n",
    "How do other users with similar interests as yours engage with the posts\n",
    "So these were the most common factors for suggesting more posts on Instagram"
   ]
  },
  {
   "cell_type": "code",
   "execution_count": 3,
   "id": "48294b72",
   "metadata": {},
   "outputs": [],
   "source": [
    "import numpy as np\n",
    "import pandas as pd\n",
    "import seaborn as sns\n",
    "import matplotlib.pyplot as plt\n",
    "from sklearn.feature_extraction import text\n",
    "from sklearn.metrics.pairwise import cosine_similarity"
   ]
  },
  {
   "cell_type": "code",
   "execution_count": 5,
   "id": "2ed365b3",
   "metadata": {
    "scrolled": false
   },
   "outputs": [
    {
     "data": {
      "text/html": [
       "<div>\n",
       "<style scoped>\n",
       "    .dataframe tbody tr th:only-of-type {\n",
       "        vertical-align: middle;\n",
       "    }\n",
       "\n",
       "    .dataframe tbody tr th {\n",
       "        vertical-align: top;\n",
       "    }\n",
       "\n",
       "    .dataframe thead th {\n",
       "        text-align: right;\n",
       "    }\n",
       "</style>\n",
       "<table border=\"1\" class=\"dataframe\">\n",
       "  <thead>\n",
       "    <tr style=\"text-align: right;\">\n",
       "      <th></th>\n",
       "      <th>Date</th>\n",
       "      <th>Impressions</th>\n",
       "      <th>From Home</th>\n",
       "      <th>From Hashtags</th>\n",
       "      <th>From Explore</th>\n",
       "      <th>From Other</th>\n",
       "      <th>Saves</th>\n",
       "      <th>Comments</th>\n",
       "      <th>Shares</th>\n",
       "      <th>Likes</th>\n",
       "      <th>Profile Visits</th>\n",
       "      <th>Follows</th>\n",
       "      <th>Conversion Rate</th>\n",
       "      <th>Caption</th>\n",
       "      <th>Hashtags</th>\n",
       "    </tr>\n",
       "  </thead>\n",
       "  <tbody>\n",
       "    <tr>\n",
       "      <th>0</th>\n",
       "      <td>2021-12-10</td>\n",
       "      <td>3920</td>\n",
       "      <td>2586</td>\n",
       "      <td>1028</td>\n",
       "      <td>619</td>\n",
       "      <td>56</td>\n",
       "      <td>98</td>\n",
       "      <td>9</td>\n",
       "      <td>5</td>\n",
       "      <td>162</td>\n",
       "      <td>35</td>\n",
       "      <td>2</td>\n",
       "      <td>5.714286</td>\n",
       "      <td>Here are some of the most important data visua...</td>\n",
       "      <td>#finance #money #business #investing #investme...</td>\n",
       "    </tr>\n",
       "    <tr>\n",
       "      <th>1</th>\n",
       "      <td>2021-12-11</td>\n",
       "      <td>5394</td>\n",
       "      <td>2727</td>\n",
       "      <td>1838</td>\n",
       "      <td>1174</td>\n",
       "      <td>78</td>\n",
       "      <td>194</td>\n",
       "      <td>7</td>\n",
       "      <td>14</td>\n",
       "      <td>224</td>\n",
       "      <td>48</td>\n",
       "      <td>10</td>\n",
       "      <td>20.833333</td>\n",
       "      <td>Here are some of the best data science project...</td>\n",
       "      <td>#healthcare #health #covid #data #datascience ...</td>\n",
       "    </tr>\n",
       "    <tr>\n",
       "      <th>2</th>\n",
       "      <td>2021-12-12</td>\n",
       "      <td>4021</td>\n",
       "      <td>2085</td>\n",
       "      <td>1188</td>\n",
       "      <td>0</td>\n",
       "      <td>533</td>\n",
       "      <td>41</td>\n",
       "      <td>11</td>\n",
       "      <td>1</td>\n",
       "      <td>131</td>\n",
       "      <td>62</td>\n",
       "      <td>12</td>\n",
       "      <td>19.354839</td>\n",
       "      <td>Learn how to train a machine learning model an...</td>\n",
       "      <td>#data #datascience #dataanalysis #dataanalytic...</td>\n",
       "    </tr>\n",
       "    <tr>\n",
       "      <th>3</th>\n",
       "      <td>2021-12-13</td>\n",
       "      <td>4528</td>\n",
       "      <td>2700</td>\n",
       "      <td>621</td>\n",
       "      <td>932</td>\n",
       "      <td>73</td>\n",
       "      <td>172</td>\n",
       "      <td>10</td>\n",
       "      <td>7</td>\n",
       "      <td>213</td>\n",
       "      <td>23</td>\n",
       "      <td>8</td>\n",
       "      <td>34.782609</td>\n",
       "      <td>Here’s how you can write a Python program to d...</td>\n",
       "      <td>#python #pythonprogramming #pythonprojects #py...</td>\n",
       "    </tr>\n",
       "    <tr>\n",
       "      <th>4</th>\n",
       "      <td>2021-12-14</td>\n",
       "      <td>2518</td>\n",
       "      <td>1704</td>\n",
       "      <td>255</td>\n",
       "      <td>279</td>\n",
       "      <td>37</td>\n",
       "      <td>96</td>\n",
       "      <td>5</td>\n",
       "      <td>4</td>\n",
       "      <td>123</td>\n",
       "      <td>8</td>\n",
       "      <td>0</td>\n",
       "      <td>0.000000</td>\n",
       "      <td>Plotting annotations while visualizing your da...</td>\n",
       "      <td>#datavisualization #datascience #data #dataana...</td>\n",
       "    </tr>\n",
       "  </tbody>\n",
       "</table>\n",
       "</div>"
      ],
      "text/plain": [
       "         Date  Impressions  From Home  From Hashtags  From Explore  \\\n",
       "0  2021-12-10         3920       2586           1028           619   \n",
       "1  2021-12-11         5394       2727           1838          1174   \n",
       "2  2021-12-12         4021       2085           1188             0   \n",
       "3  2021-12-13         4528       2700            621           932   \n",
       "4  2021-12-14         2518       1704            255           279   \n",
       "\n",
       "   From Other  Saves  Comments  Shares  Likes  Profile Visits  Follows  \\\n",
       "0          56     98         9       5    162              35        2   \n",
       "1          78    194         7      14    224              48       10   \n",
       "2         533     41        11       1    131              62       12   \n",
       "3          73    172        10       7    213              23        8   \n",
       "4          37     96         5       4    123               8        0   \n",
       "\n",
       "   Conversion Rate                                            Caption  \\\n",
       "0         5.714286  Here are some of the most important data visua...   \n",
       "1        20.833333  Here are some of the best data science project...   \n",
       "2        19.354839  Learn how to train a machine learning model an...   \n",
       "3        34.782609  Here’s how you can write a Python program to d...   \n",
       "4         0.000000  Plotting annotations while visualizing your da...   \n",
       "\n",
       "                                            Hashtags  \n",
       "0  #finance #money #business #investing #investme...  \n",
       "1  #healthcare #health #covid #data #datascience ...  \n",
       "2  #data #datascience #dataanalysis #dataanalytic...  \n",
       "3  #python #pythonprogramming #pythonprojects #py...  \n",
       "4  #datavisualization #datascience #data #dataana...  "
      ]
     },
     "execution_count": 5,
     "metadata": {},
     "output_type": "execute_result"
    }
   ],
   "source": [
    "#load dataset\n",
    "df=pd.read_csv('instagram data.csv')\n",
    "df.head()"
   ]
  },
  {
   "cell_type": "code",
   "execution_count": 12,
   "id": "f66ce0f0",
   "metadata": {},
   "outputs": [
    {
     "data": {
      "text/plain": [
       "Date               0\n",
       "Impressions        0\n",
       "From Home          0\n",
       "From Hashtags      0\n",
       "From Explore       0\n",
       "From Other         0\n",
       "Saves              0\n",
       "Comments           0\n",
       "Shares             0\n",
       "Likes              0\n",
       "Profile Visits     0\n",
       "Follows            0\n",
       "Conversion Rate    0\n",
       "Caption            0\n",
       "Hashtags           0\n",
       "dtype: int64"
      ]
     },
     "execution_count": 12,
     "metadata": {},
     "output_type": "execute_result"
    }
   ],
   "source": [
    "#check null\n",
    "df.isnull().sum()"
   ]
  },
  {
   "cell_type": "code",
   "execution_count": 13,
   "id": "265940cc",
   "metadata": {},
   "outputs": [
    {
     "data": {
      "text/plain": [
       "Date                object\n",
       "Impressions          int64\n",
       "From Home            int64\n",
       "From Hashtags        int64\n",
       "From Explore         int64\n",
       "From Other           int64\n",
       "Saves                int64\n",
       "Comments             int64\n",
       "Shares               int64\n",
       "Likes                int64\n",
       "Profile Visits       int64\n",
       "Follows              int64\n",
       "Conversion Rate    float64\n",
       "Caption             object\n",
       "Hashtags            object\n",
       "dtype: object"
      ]
     },
     "execution_count": 13,
     "metadata": {},
     "output_type": "execute_result"
    }
   ],
   "source": [
    "#check datatypes\n",
    "df.dtypes"
   ]
  },
  {
   "cell_type": "code",
   "execution_count": 6,
   "id": "a7608bec",
   "metadata": {},
   "outputs": [
    {
     "name": "stdout",
     "output_type": "stream",
     "text": [
      "                                             Caption  \\\n",
      "0  Here are some of the most important data visua...   \n",
      "1  Here are some of the best data science project...   \n",
      "2  Learn how to train a machine learning model an...   \n",
      "3  Here’s how you can write a Python program to d...   \n",
      "4  Plotting annotations while visualizing your da...   \n",
      "\n",
      "                                            Hashtags  \n",
      "0  #finance #money #business #investing #investme...  \n",
      "1  #healthcare #health #covid #data #datascience ...  \n",
      "2  #data #datascience #dataanalysis #dataanalytic...  \n",
      "3  #python #pythonprogramming #pythonprojects #py...  \n",
      "4  #datavisualization #datascience #data #dataana...  \n"
     ]
    }
   ],
   "source": [
    "#use caption and hashtag to find the recommendation of suggested post\n",
    "data = df[[\"Caption\", \"Hashtags\"]]\n",
    "print(data.head())"
   ]
  },
  {
   "cell_type": "markdown",
   "id": "cb663fd5",
   "metadata": {},
   "source": [
    "# use cosine similarity in machine learning to find similarities between the captions. After finding similarities between the posts, we can recommend them to the user based on the similarities to the post the user just interacted with."
   ]
  },
  {
   "cell_type": "code",
   "execution_count": 7,
   "id": "cf211dd4",
   "metadata": {
    "scrolled": true
   },
   "outputs": [
    {
     "name": "stdout",
     "output_type": "stream",
     "text": [
      "                                             Caption  \\\n",
      "0  Here are some of the most important data visua...   \n",
      "1  Here are some of the best data science project...   \n",
      "2  Learn how to train a machine learning model an...   \n",
      "3  Here’s how you can write a Python program to d...   \n",
      "4  Plotting annotations while visualizing your da...   \n",
      "\n",
      "                                            Hashtags  \\\n",
      "0  #finance #money #business #investing #investme...   \n",
      "1  #healthcare #health #covid #data #datascience ...   \n",
      "2  #data #datascience #dataanalysis #dataanalytic...   \n",
      "3  #python #pythonprogramming #pythonprojects #py...   \n",
      "4  #datavisualization #datascience #data #dataana...   \n",
      "\n",
      "                                    Recommended Post  \n",
      "0  Here are some of the most important tools that...  \n",
      "1  Here are some of the best data science project...  \n",
      "2  Data Science Use Cases: Here’s how Zomato is u...  \n",
      "3  Here’s how to write a Python function to rever...  \n",
      "4  Practice these 90+ Data Science Projects For B...  \n"
     ]
    },
    {
     "name": "stderr",
     "output_type": "stream",
     "text": [
      "C:\\Users\\Siraj\\AppData\\Local\\Temp/ipykernel_6524/2267636391.py:9: SettingWithCopyWarning: \n",
      "A value is trying to be set on a copy of a slice from a DataFrame.\n",
      "Try using .loc[row_indexer,col_indexer] = value instead\n",
      "\n",
      "See the caveats in the documentation: https://pandas.pydata.org/pandas-docs/stable/user_guide/indexing.html#returning-a-view-versus-a-copy\n",
      "  data[\"Recommended Post\"] = [recommend_post(x) for x in uni_sim]\n"
     ]
    }
   ],
   "source": [
    "captions = df[\"Caption\"].tolist()\n",
    "uni_tfidf = text.TfidfVectorizer(input=captions, stop_words=\"english\")\n",
    "uni_matrix = uni_tfidf.fit_transform(captions)\n",
    "uni_sim = cosine_similarity(uni_matrix)\n",
    "\n",
    "def recommend_post(x):\n",
    "    return \", \".join(df[\"Caption\"].loc[x.argsort()[-5:-1]])\n",
    "\n",
    "data[\"Recommended Post\"] = [recommend_post(x) for x in uni_sim]\n",
    "print(data.head())"
   ]
  },
  {
   "cell_type": "code",
   "execution_count": 11,
   "id": "70efcaf4",
   "metadata": {},
   "outputs": [
    {
     "name": "stdout",
     "output_type": "stream",
     "text": [
      "Practice these 90+ Data Science Projects For Beginners Solved & Explained using Python. Find all these projects from the link in bio., Practice these 90+ Data Science Projects For Beginners Solved & Explained using Python. Find all these projects from the link in bio., Visualizing data is one of the most valuable skills every Data Scientist and Analyst should have. There are a lot of data visualizations to learn in data science. Here you will find a list of all data visualizations for data science explained using Python., Visualizing data is one of the most valuable skills every Data Scientist and Analyst should have. There are a lot of data visualizations to learn in data science. Here you will find a list of all data visualizations for data science explained using Python.\n"
     ]
    }
   ],
   "source": [
    "#look at the recommendations of an Instagram post from the dataset:\n",
    "print(data[\"Recommended Post\"][4])"
   ]
  },
  {
   "cell_type": "markdown",
   "id": "0dd19af6",
   "metadata": {},
   "source": [
    "# Summary\n",
    "The post you see as a suggested post on Instagram when you scroll through your feed is where Instagram uses a recommender system\n",
    "to recommend posts that may interest you. It helps in grabbing the attention of the user for a longer time"
   ]
  }
 ],
 "metadata": {
  "kernelspec": {
   "display_name": "Python 3 (ipykernel)",
   "language": "python",
   "name": "python3"
  },
  "language_info": {
   "codemirror_mode": {
    "name": "ipython",
    "version": 3
   },
   "file_extension": ".py",
   "mimetype": "text/x-python",
   "name": "python",
   "nbconvert_exporter": "python",
   "pygments_lexer": "ipython3",
   "version": "3.8.8"
  }
 },
 "nbformat": 4,
 "nbformat_minor": 5
}
