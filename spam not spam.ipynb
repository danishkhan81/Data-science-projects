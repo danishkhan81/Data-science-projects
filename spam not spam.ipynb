{
 "cells": [
  {
   "cell_type": "code",
   "execution_count": 1,
   "id": "a88c7898",
   "metadata": {},
   "outputs": [
    {
     "name": "stdout",
     "output_type": "stream",
     "text": [
      "Requirement already satisfied: tensorflow in c:\\users\\siraj\\anaconda3\\lib\\site-packages (2.9.1)\n",
      "Requirement already satisfied: opt-einsum>=2.3.2 in c:\\users\\siraj\\anaconda3\\lib\\site-packages (from tensorflow) (3.3.0)\n",
      "Requirement already satisfied: tensorflow-estimator<2.10.0,>=2.9.0rc0 in c:\\users\\siraj\\anaconda3\\lib\\site-packages (from tensorflow) (2.9.0)\n",
      "Requirement already satisfied: libclang>=13.0.0 in c:\\users\\siraj\\anaconda3\\lib\\site-packages (from tensorflow) (14.0.1)\n",
      "Requirement already satisfied: keras<2.10.0,>=2.9.0rc0 in c:\\users\\siraj\\anaconda3\\lib\\site-packages (from tensorflow) (2.9.0)\n",
      "Requirement already satisfied: google-pasta>=0.1.1 in c:\\users\\siraj\\anaconda3\\lib\\site-packages (from tensorflow) (0.2.0)\n",
      "Requirement already satisfied: numpy>=1.20 in c:\\users\\siraj\\anaconda3\\lib\\site-packages (from tensorflow) (1.22.1)\n",
      "Requirement already satisfied: six>=1.12.0 in c:\\users\\siraj\\anaconda3\\lib\\site-packages (from tensorflow) (1.16.0)\n",
      "Requirement already satisfied: wrapt>=1.11.0 in c:\\users\\siraj\\anaconda3\\lib\\site-packages (from tensorflow) (1.14.1)\n",
      "Requirement already satisfied: tensorboard<2.10,>=2.9 in c:\\users\\siraj\\anaconda3\\lib\\site-packages (from tensorflow) (2.9.1)\n",
      "Requirement already satisfied: termcolor>=1.1.0 in c:\\users\\siraj\\anaconda3\\lib\\site-packages (from tensorflow) (1.1.0)\n",
      "Requirement already satisfied: typing-extensions>=3.6.6 in c:\\users\\siraj\\anaconda3\\lib\\site-packages (from tensorflow) (4.2.0)\n",
      "Requirement already satisfied: h5py>=2.9.0 in c:\\users\\siraj\\anaconda3\\lib\\site-packages (from tensorflow) (3.7.0)\n",
      "Requirement already satisfied: grpcio<2.0,>=1.24.3 in c:\\users\\siraj\\anaconda3\\lib\\site-packages (from tensorflow) (1.46.3)\n",
      "Requirement already satisfied: packaging in c:\\users\\siraj\\anaconda3\\lib\\site-packages (from tensorflow) (21.3)\n",
      "Requirement already satisfied: tensorflow-io-gcs-filesystem>=0.23.1 in c:\\users\\siraj\\anaconda3\\lib\\site-packages (from tensorflow) (0.26.0)\n",
      "Requirement already satisfied: absl-py>=1.0.0 in c:\\users\\siraj\\anaconda3\\lib\\site-packages (from tensorflow) (1.1.0)\n",
      "Requirement already satisfied: gast<=0.4.0,>=0.2.1 in c:\\users\\siraj\\anaconda3\\lib\\site-packages (from tensorflow) (0.4.0)\n",
      "Requirement already satisfied: astunparse>=1.6.0 in c:\\users\\siraj\\anaconda3\\lib\\site-packages (from tensorflow) (1.6.3)\n",
      "Requirement already satisfied: protobuf<3.20,>=3.9.2 in c:\\users\\siraj\\anaconda3\\lib\\site-packages (from tensorflow) (3.19.4)\n",
      "Requirement already satisfied: flatbuffers<2,>=1.12 in c:\\users\\siraj\\anaconda3\\lib\\site-packages (from tensorflow) (1.12)\n",
      "Requirement already satisfied: setuptools in c:\\users\\siraj\\anaconda3\\lib\\site-packages (from tensorflow) (58.0.4)\n",
      "Requirement already satisfied: keras-preprocessing>=1.1.1 in c:\\users\\siraj\\anaconda3\\lib\\site-packages (from tensorflow) (1.1.2)\n",
      "Requirement already satisfied: wheel<1.0,>=0.23.0 in c:\\users\\siraj\\anaconda3\\lib\\site-packages (from astunparse>=1.6.0->tensorflow) (0.37.1)\n",
      "Requirement already satisfied: tensorboard-plugin-wit>=1.6.0 in c:\\users\\siraj\\anaconda3\\lib\\site-packages (from tensorboard<2.10,>=2.9->tensorflow) (1.8.1)\n",
      "Requirement already satisfied: tensorboard-data-server<0.7.0,>=0.6.0 in c:\\users\\siraj\\anaconda3\\lib\\site-packages (from tensorboard<2.10,>=2.9->tensorflow) (0.6.1)\n",
      "Requirement already satisfied: markdown>=2.6.8 in c:\\users\\siraj\\anaconda3\\lib\\site-packages (from tensorboard<2.10,>=2.9->tensorflow) (3.3.7)\n",
      "Requirement already satisfied: werkzeug>=1.0.1 in c:\\users\\siraj\\anaconda3\\lib\\site-packages (from tensorboard<2.10,>=2.9->tensorflow) (2.1.2)\n",
      "Requirement already satisfied: google-auth<3,>=1.6.3 in c:\\users\\siraj\\anaconda3\\lib\\site-packages (from tensorboard<2.10,>=2.9->tensorflow) (2.8.0)\n",
      "Requirement already satisfied: requests<3,>=2.21.0 in c:\\users\\siraj\\anaconda3\\lib\\site-packages (from tensorboard<2.10,>=2.9->tensorflow) (2.27.1)\n",
      "Requirement already satisfied: google-auth-oauthlib<0.5,>=0.4.1 in c:\\users\\siraj\\anaconda3\\lib\\site-packages (from tensorboard<2.10,>=2.9->tensorflow) (0.4.6)\n",
      "Requirement already satisfied: rsa<5,>=3.1.4 in c:\\users\\siraj\\anaconda3\\lib\\site-packages (from google-auth<3,>=1.6.3->tensorboard<2.10,>=2.9->tensorflow) (4.8)\n",
      "Requirement already satisfied: pyasn1-modules>=0.2.1 in c:\\users\\siraj\\anaconda3\\lib\\site-packages (from google-auth<3,>=1.6.3->tensorboard<2.10,>=2.9->tensorflow) (0.2.8)\n",
      "Requirement already satisfied: cachetools<6.0,>=2.0.0 in c:\\users\\siraj\\anaconda3\\lib\\site-packages (from google-auth<3,>=1.6.3->tensorboard<2.10,>=2.9->tensorflow) (5.2.0)\n",
      "Requirement already satisfied: requests-oauthlib>=0.7.0 in c:\\users\\siraj\\anaconda3\\lib\\site-packages (from google-auth-oauthlib<0.5,>=0.4.1->tensorboard<2.10,>=2.9->tensorflow) (1.3.1)\n",
      "Requirement already satisfied: importlib-metadata>=4.4 in c:\\users\\siraj\\anaconda3\\lib\\site-packages (from markdown>=2.6.8->tensorboard<2.10,>=2.9->tensorflow) (4.8.2)\n",
      "Requirement already satisfied: zipp>=0.5 in c:\\users\\siraj\\anaconda3\\lib\\site-packages (from importlib-metadata>=4.4->markdown>=2.6.8->tensorboard<2.10,>=2.9->tensorflow) (3.7.0)\n",
      "Requirement already satisfied: pyasn1<0.5.0,>=0.4.6 in c:\\users\\siraj\\anaconda3\\lib\\site-packages (from pyasn1-modules>=0.2.1->google-auth<3,>=1.6.3->tensorboard<2.10,>=2.9->tensorflow) (0.4.8)\n",
      "Requirement already satisfied: idna<4,>=2.5 in c:\\users\\siraj\\anaconda3\\lib\\site-packages (from requests<3,>=2.21.0->tensorboard<2.10,>=2.9->tensorflow) (3.3)\n",
      "Requirement already satisfied: charset-normalizer~=2.0.0 in c:\\users\\siraj\\anaconda3\\lib\\site-packages (from requests<3,>=2.21.0->tensorboard<2.10,>=2.9->tensorflow) (2.0.4)\n",
      "Requirement already satisfied: urllib3<1.27,>=1.21.1 in c:\\users\\siraj\\anaconda3\\lib\\site-packages (from requests<3,>=2.21.0->tensorboard<2.10,>=2.9->tensorflow) (1.26.8)\n",
      "Requirement already satisfied: certifi>=2017.4.17 in c:\\users\\siraj\\anaconda3\\lib\\site-packages (from requests<3,>=2.21.0->tensorboard<2.10,>=2.9->tensorflow) (2021.10.8)\n",
      "Requirement already satisfied: oauthlib>=3.0.0 in c:\\users\\siraj\\anaconda3\\lib\\site-packages (from requests-oauthlib>=0.7.0->google-auth-oauthlib<0.5,>=0.4.1->tensorboard<2.10,>=2.9->tensorflow) (3.2.0)\n",
      "Requirement already satisfied: pyparsing!=3.0.5,>=2.0.2 in c:\\users\\siraj\\anaconda3\\lib\\site-packages (from packaging->tensorflow) (3.0.4)\n"
     ]
    }
   ],
   "source": [
    "#!pip install nltk\n",
    "#!pip install wordcloud\n",
    "!pip install tensorflow"
   ]
  },
  {
   "cell_type": "code",
   "execution_count": 2,
   "id": "091a1ef2",
   "metadata": {},
   "outputs": [],
   "source": [
    "#text classification\n",
    "#predict spam or not spam\n",
    "\n",
    "import numpy as np\n",
    "import pandas as pd\n",
    "import matplotlib.pyplot as plt \n",
    "from nltk.tokenize import word_tokenize \n",
    "from nltk.corpus import stopwords \n",
    "import nltk\n",
    "from nltk.stem import WordNetLemmatizer \n",
    "from sklearn.feature_extraction.text import CountVectorizer \n",
    "from sklearn.feature_extraction.text import TfidfVectorizer\n",
    "import warnings\n",
    "warnings.filterwarnings('ignore')"
   ]
  },
  {
   "cell_type": "code",
   "execution_count": 3,
   "id": "b606c1d0",
   "metadata": {},
   "outputs": [
    {
     "data": {
      "text/html": [
       "<div>\n",
       "<style scoped>\n",
       "    .dataframe tbody tr th:only-of-type {\n",
       "        vertical-align: middle;\n",
       "    }\n",
       "\n",
       "    .dataframe tbody tr th {\n",
       "        vertical-align: top;\n",
       "    }\n",
       "\n",
       "    .dataframe thead th {\n",
       "        text-align: right;\n",
       "    }\n",
       "</style>\n",
       "<table border=\"1\" class=\"dataframe\">\n",
       "  <thead>\n",
       "    <tr style=\"text-align: right;\">\n",
       "      <th></th>\n",
       "      <th>category</th>\n",
       "      <th>Message</th>\n",
       "      <th>Unnamed: 2</th>\n",
       "      <th>Unnamed: 3</th>\n",
       "      <th>Unnamed: 4</th>\n",
       "    </tr>\n",
       "  </thead>\n",
       "  <tbody>\n",
       "    <tr>\n",
       "      <th>0</th>\n",
       "      <td>not spam</td>\n",
       "      <td>Go until jurong point, crazy.. Available only ...</td>\n",
       "      <td>NaN</td>\n",
       "      <td>NaN</td>\n",
       "      <td>NaN</td>\n",
       "    </tr>\n",
       "    <tr>\n",
       "      <th>1</th>\n",
       "      <td>not spam</td>\n",
       "      <td>Ok lar... Joking wif u oni...</td>\n",
       "      <td>NaN</td>\n",
       "      <td>NaN</td>\n",
       "      <td>NaN</td>\n",
       "    </tr>\n",
       "    <tr>\n",
       "      <th>2</th>\n",
       "      <td>spam</td>\n",
       "      <td>Free entry in 2 a wkly comp to win FA Cup fina...</td>\n",
       "      <td>NaN</td>\n",
       "      <td>NaN</td>\n",
       "      <td>NaN</td>\n",
       "    </tr>\n",
       "    <tr>\n",
       "      <th>3</th>\n",
       "      <td>not spam</td>\n",
       "      <td>U dun say so early hor... U c already then say...</td>\n",
       "      <td>NaN</td>\n",
       "      <td>NaN</td>\n",
       "      <td>NaN</td>\n",
       "    </tr>\n",
       "    <tr>\n",
       "      <th>4</th>\n",
       "      <td>not spam</td>\n",
       "      <td>Nah I don't think he goes to usf, he lives aro...</td>\n",
       "      <td>NaN</td>\n",
       "      <td>NaN</td>\n",
       "      <td>NaN</td>\n",
       "    </tr>\n",
       "  </tbody>\n",
       "</table>\n",
       "</div>"
      ],
      "text/plain": [
       "   category                                            Message Unnamed: 2  \\\n",
       "0  not spam  Go until jurong point, crazy.. Available only ...        NaN   \n",
       "1  not spam                      Ok lar... Joking wif u oni...        NaN   \n",
       "2      spam  Free entry in 2 a wkly comp to win FA Cup fina...        NaN   \n",
       "3  not spam  U dun say so early hor... U c already then say...        NaN   \n",
       "4  not spam  Nah I don't think he goes to usf, he lives aro...        NaN   \n",
       "\n",
       "  Unnamed: 3 Unnamed: 4  \n",
       "0        NaN        NaN  \n",
       "1        NaN        NaN  \n",
       "2        NaN        NaN  \n",
       "3        NaN        NaN  \n",
       "4        NaN        NaN  "
      ]
     },
     "execution_count": 3,
     "metadata": {},
     "output_type": "execute_result"
    }
   ],
   "source": [
    "#load dataset\n",
    "df=pd.read_csv('spam.csv',encoding='latin-1')\n",
    "df.head()"
   ]
  },
  {
   "cell_type": "code",
   "execution_count": 4,
   "id": "03019476",
   "metadata": {},
   "outputs": [
    {
     "name": "stderr",
     "output_type": "stream",
     "text": [
      "[nltk_data] Downloading package punkt to\n",
      "[nltk_data]     C:\\Users\\Siraj\\AppData\\Roaming\\nltk_data...\n",
      "[nltk_data]   Package punkt is already up-to-date!\n",
      "[nltk_data] Downloading package stopwords to\n",
      "[nltk_data]     C:\\Users\\Siraj\\AppData\\Roaming\\nltk_data...\n",
      "[nltk_data]   Package stopwords is already up-to-date!\n",
      "[nltk_data] Downloading package wordnet to\n",
      "[nltk_data]     C:\\Users\\Siraj\\AppData\\Roaming\\nltk_data...\n",
      "[nltk_data]   Package wordnet is already up-to-date!\n",
      "[nltk_data] Downloading package omw-1.4 to\n",
      "[nltk_data]     C:\\Users\\Siraj\\AppData\\Roaming\\nltk_data...\n",
      "[nltk_data]   Package omw-1.4 is already up-to-date!\n"
     ]
    },
    {
     "data": {
      "text/plain": [
       "True"
      ]
     },
     "execution_count": 4,
     "metadata": {},
     "output_type": "execute_result"
    }
   ],
   "source": [
    "nltk.download('punkt')\n",
    "nltk.download('stopwords')\n",
    "nltk.download('wordnet')\n",
    "nltk.download('omw-1.4')"
   ]
  },
  {
   "cell_type": "code",
   "execution_count": 5,
   "id": "b9326713",
   "metadata": {},
   "outputs": [
    {
     "data": {
      "text/plain": [
       "category         0\n",
       "Message          0\n",
       "Unnamed: 2    5522\n",
       "Unnamed: 3    5560\n",
       "Unnamed: 4    5566\n",
       "dtype: int64"
      ]
     },
     "execution_count": 5,
     "metadata": {},
     "output_type": "execute_result"
    }
   ],
   "source": [
    "#check null\n",
    "df.isnull().sum()"
   ]
  },
  {
   "cell_type": "code",
   "execution_count": 6,
   "id": "a7ed7ab1",
   "metadata": {},
   "outputs": [],
   "source": [
    "#remove  unwanted column\n",
    "df.drop(['Unnamed: 2','Unnamed: 3','Unnamed: 4'],axis=1,inplace=True)"
   ]
  },
  {
   "cell_type": "code",
   "execution_count": 7,
   "id": "a3b27eac",
   "metadata": {},
   "outputs": [
    {
     "data": {
      "text/plain": [
       "(5572, 2)"
      ]
     },
     "execution_count": 7,
     "metadata": {},
     "output_type": "execute_result"
    }
   ],
   "source": [
    "#check rows and columns\n",
    "df.shape"
   ]
  },
  {
   "cell_type": "code",
   "execution_count": 8,
   "id": "c46059cc",
   "metadata": {},
   "outputs": [
    {
     "data": {
      "text/html": [
       "<div>\n",
       "<style scoped>\n",
       "    .dataframe tbody tr th:only-of-type {\n",
       "        vertical-align: middle;\n",
       "    }\n",
       "\n",
       "    .dataframe tbody tr th {\n",
       "        vertical-align: top;\n",
       "    }\n",
       "\n",
       "    .dataframe thead th {\n",
       "        text-align: right;\n",
       "    }\n",
       "</style>\n",
       "<table border=\"1\" class=\"dataframe\">\n",
       "  <thead>\n",
       "    <tr style=\"text-align: right;\">\n",
       "      <th></th>\n",
       "      <th>category</th>\n",
       "      <th>Message</th>\n",
       "    </tr>\n",
       "  </thead>\n",
       "  <tbody>\n",
       "    <tr>\n",
       "      <th>0</th>\n",
       "      <td>not spam</td>\n",
       "      <td>Go until jurong point, crazy.. Available only ...</td>\n",
       "    </tr>\n",
       "    <tr>\n",
       "      <th>1</th>\n",
       "      <td>not spam</td>\n",
       "      <td>Ok lar... Joking wif u oni...</td>\n",
       "    </tr>\n",
       "    <tr>\n",
       "      <th>2</th>\n",
       "      <td>spam</td>\n",
       "      <td>Free entry in 2 a wkly comp to win FA Cup fina...</td>\n",
       "    </tr>\n",
       "    <tr>\n",
       "      <th>3</th>\n",
       "      <td>not spam</td>\n",
       "      <td>U dun say so early hor... U c already then say...</td>\n",
       "    </tr>\n",
       "    <tr>\n",
       "      <th>4</th>\n",
       "      <td>not spam</td>\n",
       "      <td>Nah I don't think he goes to usf, he lives aro...</td>\n",
       "    </tr>\n",
       "  </tbody>\n",
       "</table>\n",
       "</div>"
      ],
      "text/plain": [
       "   category                                            Message\n",
       "0  not spam  Go until jurong point, crazy.. Available only ...\n",
       "1  not spam                      Ok lar... Joking wif u oni...\n",
       "2      spam  Free entry in 2 a wkly comp to win FA Cup fina...\n",
       "3  not spam  U dun say so early hor... U c already then say...\n",
       "4  not spam  Nah I don't think he goes to usf, he lives aro..."
      ]
     },
     "execution_count": 8,
     "metadata": {},
     "output_type": "execute_result"
    }
   ],
   "source": [
    "df.head()"
   ]
  },
  {
   "cell_type": "code",
   "execution_count": 9,
   "id": "366791ae",
   "metadata": {},
   "outputs": [
    {
     "data": {
      "image/png": "[encoded data removed]",
      "text/plain": [
       "<Figure size 432x288 with 1 Axes>"
      ]
     },
     "metadata": {
      "needs_background": "light"
     },
     "output_type": "display_data"
    }
   ],
   "source": [
    "#visualize category\n",
    "f=df['category'].value_counts()\n",
    "import seaborn as sns\n",
    "sns.countplot(data=df,x='category')\n",
    "plt.yticks(f)\n",
    "plt.show()"
   ]
  },
  {
   "cell_type": "code",
   "execution_count": 10,
   "id": "469b9795",
   "metadata": {},
   "outputs": [],
   "source": [
    "#use wordcloud\n",
    "from wordcloud import WordCloud,STOPWORDS"
   ]
  },
  {
   "cell_type": "code",
   "execution_count": 11,
   "id": "863c7063",
   "metadata": {},
   "outputs": [
    {
     "data": {
      "text/plain": [
       "<wordcloud.wordcloud.WordCloud at 0x1f5d41751c0>"
      ]
     },
     "execution_count": 11,
     "metadata": {},
     "output_type": "execute_result"
    }
   ],
   "source": [
    "wc=WordCloud(width=500,height=500,background_color='black',min_font_size=10,stopwords=STOPWORDS)\n",
    "\n",
    "#generate\n",
    "wc.generate(''.join(df[df['category']=='spam']['Message']))\n"
   ]
  },
  {
   "cell_type": "code",
   "execution_count": 12,
   "id": "5586eb31",
   "metadata": {},
   "outputs": [
    {
     "data": {
      "image/png": "[encoded data removed]",
      "text/plain": [
       "<Figure size 360x360 with 1 Axes>"
      ]
     },
     "metadata": {
      "needs_background": "light"
     },
     "output_type": "display_data"
    }
   ],
   "source": [
    "#show spam wordcloud image\n",
    "plt.figure(figsize=(5,5))\n",
    "plt.imshow(wc)\n",
    "plt.axis('off')\n",
    "plt.show()"
   ]
  },
  {
   "cell_type": "code",
   "execution_count": 13,
   "id": "de122f38",
   "metadata": {},
   "outputs": [],
   "source": [
    "#generate not spam\n",
    "wc=WordCloud(width=500,height=500,background_color='white',min_font_size=10,stopwords=STOPWORDS)"
   ]
  },
  {
   "cell_type": "code",
   "execution_count": 14,
   "id": "3695c59d",
   "metadata": {},
   "outputs": [
    {
     "data": {
      "text/plain": [
       "<wordcloud.wordcloud.WordCloud at 0x1f5d4396700>"
      ]
     },
     "execution_count": 14,
     "metadata": {},
     "output_type": "execute_result"
    }
   ],
   "source": [
    "#generate\n",
    "wc.generate(''.join(df[df['category']=='not spam']['Message']))"
   ]
  },
  {
   "cell_type": "code",
   "execution_count": 15,
   "id": "6d29bb4f",
   "metadata": {},
   "outputs": [
    {
     "data": {
      "image/png": "[encoded data removed]",
      "text/plain": [
       "<Figure size 360x360 with 1 Axes>"
      ]
     },
     "metadata": {
      "needs_background": "light"
     },
     "output_type": "display_data"
    }
   ],
   "source": [
    "#show not spam wordcloud image\n",
    "plt.figure(figsize=(5,5))\n",
    "plt.imshow(wc)\n",
    "plt.axis('off')\n",
    "plt.show()\n"
   ]
  },
  {
   "cell_type": "code",
   "execution_count": 16,
   "id": "9e598bbc",
   "metadata": {},
   "outputs": [],
   "source": [
    "#perform preprocessing on txt\n",
    "#create function\n",
    "def clean_text(text):\n",
    "    #convert in lower case\n",
    "    text=text.lower()\n",
    "    #print(text)\n",
    "    \n",
    "    #2nd step,apply tokenizer\n",
    "    tokens=word_tokenize(text)\n",
    "    #print('tokens')\n",
    "    \n",
    "    #use isalpha()  to print alphabates  and remove no.s and special char.\n",
    "    word_tokens=[t for t in tokens if t.isalpha()]\n",
    "    #print(word_tokens)\n",
    "    \n",
    "    #create list for stopwords to remove is,am,a...\n",
    "    stop=stopwords.words('english')\n",
    "    clean_tokens=[t for t in word_tokens if t  not in stop]\n",
    "    #print(clean_tokens)\n",
    "    \n",
    "    #create the object of WordNetLemmatizer class\n",
    "    lemma=WordNetLemmatizer()\n",
    "    lemma_token=[lemma.lemmatize(t) for t in clean_tokens]\n",
    "    return ' '.join(lemma_token)"
   ]
  },
  {
   "cell_type": "code",
   "execution_count": 17,
   "id": "ef5ab767",
   "metadata": {},
   "outputs": [],
   "source": [
    "#call function \n",
    "#clean_text('Meena wolf wolves feet study studying studied I am 123 to Pandey@gmail.com')"
   ]
  },
  {
   "cell_type": "code",
   "execution_count": 18,
   "id": "a3eb2f0a",
   "metadata": {},
   "outputs": [],
   "source": [
    "#apply clean_text function on column  of message\n",
    "df['Message']=df['Message'].apply(clean_text)\n"
   ]
  },
  {
   "cell_type": "code",
   "execution_count": 19,
   "id": "884cf483",
   "metadata": {},
   "outputs": [
    {
     "data": {
      "text/plain": [
       "0       go jurong point crazy available bugis n great ...\n",
       "1                                 ok lar joking wif u oni\n",
       "2       free entry wkly comp win fa cup final tkts may...\n",
       "3                     u dun say early hor u c already say\n",
       "4                     nah think go usf life around though\n",
       "                              ...                        \n",
       "5567    time tried contact u pound prize claim easy ca...\n",
       "5568                            b going esplanade fr home\n",
       "5569                                 pity mood suggestion\n",
       "5570    guy bitching acted like interested buying some...\n",
       "5571                                       rofl true name\n",
       "Name: Message, Length: 5572, dtype: object"
      ]
     },
     "execution_count": 19,
     "metadata": {},
     "output_type": "execute_result"
    }
   ],
   "source": [
    "#message after removing numbers,stopwords and special characters\n",
    "df['Message']"
   ]
  },
  {
   "cell_type": "code",
   "execution_count": 20,
   "id": "1727e520",
   "metadata": {},
   "outputs": [
    {
     "data": {
      "text/html": [
       "<div>\n",
       "<style scoped>\n",
       "    .dataframe tbody tr th:only-of-type {\n",
       "        vertical-align: middle;\n",
       "    }\n",
       "\n",
       "    .dataframe tbody tr th {\n",
       "        vertical-align: top;\n",
       "    }\n",
       "\n",
       "    .dataframe thead th {\n",
       "        text-align: right;\n",
       "    }\n",
       "</style>\n",
       "<table border=\"1\" class=\"dataframe\">\n",
       "  <thead>\n",
       "    <tr style=\"text-align: right;\">\n",
       "      <th></th>\n",
       "      <th>category</th>\n",
       "      <th>Message</th>\n",
       "    </tr>\n",
       "  </thead>\n",
       "  <tbody>\n",
       "    <tr>\n",
       "      <th>0</th>\n",
       "      <td>not spam</td>\n",
       "      <td>go jurong point crazy available bugis n great ...</td>\n",
       "    </tr>\n",
       "    <tr>\n",
       "      <th>1</th>\n",
       "      <td>not spam</td>\n",
       "      <td>ok lar joking wif u oni</td>\n",
       "    </tr>\n",
       "    <tr>\n",
       "      <th>2</th>\n",
       "      <td>spam</td>\n",
       "      <td>free entry wkly comp win fa cup final tkts may...</td>\n",
       "    </tr>\n",
       "    <tr>\n",
       "      <th>3</th>\n",
       "      <td>not spam</td>\n",
       "      <td>u dun say early hor u c already say</td>\n",
       "    </tr>\n",
       "    <tr>\n",
       "      <th>4</th>\n",
       "      <td>not spam</td>\n",
       "      <td>nah think go usf life around though</td>\n",
       "    </tr>\n",
       "  </tbody>\n",
       "</table>\n",
       "</div>"
      ],
      "text/plain": [
       "   category                                            Message\n",
       "0  not spam  go jurong point crazy available bugis n great ...\n",
       "1  not spam                            ok lar joking wif u oni\n",
       "2      spam  free entry wkly comp win fa cup final tkts may...\n",
       "3  not spam                u dun say early hor u c already say\n",
       "4  not spam                nah think go usf life around though"
      ]
     },
     "execution_count": 20,
     "metadata": {},
     "output_type": "execute_result"
    }
   ],
   "source": [
    "df.head()\n"
   ]
  },
  {
   "cell_type": "code",
   "execution_count": 21,
   "id": "8f67205d",
   "metadata": {},
   "outputs": [],
   "source": [
    "#select input and output\n",
    "X=df['Message']\n",
    "Y=df['category']"
   ]
  },
  {
   "cell_type": "code",
   "execution_count": 22,
   "id": "5c9b8fb2",
   "metadata": {},
   "outputs": [
    {
     "data": {
      "text/plain": [
       "array([0, 0, 1, ..., 0, 0, 0])"
      ]
     },
     "execution_count": 22,
     "metadata": {},
     "output_type": "execute_result"
    }
   ],
   "source": [
    "#apply label encoder on category\n",
    "from sklearn.preprocessing import LabelEncoder\n",
    "le=LabelEncoder()\n",
    "Y=le.fit_transform(Y)\n",
    "Y"
   ]
  },
  {
   "cell_type": "code",
   "execution_count": 23,
   "id": "c60c47f1",
   "metadata": {},
   "outputs": [],
   "source": [
    "from sklearn.model_selection import train_test_split\n",
    "X_train,X_test,Y_train,Y_test=train_test_split(X,Y,test_size=0.3,random_state=1)"
   ]
  },
  {
   "cell_type": "code",
   "execution_count": 24,
   "id": "20da1db7",
   "metadata": {},
   "outputs": [
    {
     "data": {
      "text/plain": [
       "((3900,), (1672,))"
      ]
     },
     "execution_count": 24,
     "metadata": {},
     "output_type": "execute_result"
    }
   ],
   "source": [
    "X_train.shape,X_test.shape"
   ]
  },
  {
   "cell_type": "code",
   "execution_count": 25,
   "id": "fbd3b594",
   "metadata": {},
   "outputs": [],
   "source": [
    "\n",
    "#Now once we have the clean text in hand ,the next thing that we would \n",
    "#like to do is converts the text into number/vector\n",
    "\n",
    "#First , we are trying the first technique : countvectorizer() : \n",
    "#its converts any text to number"
   ]
  },
  {
   "cell_type": "code",
   "execution_count": 26,
   "id": "6bf389f6",
   "metadata": {},
   "outputs": [],
   "source": [
    "#create object of CountVectorizer class\n",
    "cv=CountVectorizer()       #Here not passing stopwords='english' parameter why?\n",
    "#because its already taking care of all the stopwords means \n",
    "#already remove all stopwords from msg"
   ]
  },
  {
   "cell_type": "code",
   "execution_count": 27,
   "id": "bd1af9ea",
   "metadata": {},
   "outputs": [],
   "source": [
    "\n",
    "#apply fit_transform on X train and transform on X test\n",
    "X_train_cv=cv.fit_transform(X_train)\n",
    "X_test_cv=cv.transform(X_test)"
   ]
  },
  {
   "cell_type": "code",
   "execution_count": 28,
   "id": "b169b624",
   "metadata": {},
   "outputs": [
    {
     "data": {
      "text/plain": [
       "<3900x5518 sparse matrix of type '<class 'numpy.int64'>'\n",
       "\twith 29662 stored elements in Compressed Sparse Row format>"
      ]
     },
     "execution_count": 28,
     "metadata": {},
     "output_type": "execute_result"
    }
   ],
   "source": [
    "X_train_cv"
   ]
  },
  {
   "cell_type": "code",
   "execution_count": 29,
   "id": "cb445e99",
   "metadata": {},
   "outputs": [
    {
     "data": {
      "text/plain": [
       "array([[0, 0, 0, ..., 0, 0, 0],\n",
       "       [0, 0, 0, ..., 0, 0, 0],\n",
       "       [0, 0, 0, ..., 0, 0, 0],\n",
       "       ...,\n",
       "       [0, 0, 0, ..., 0, 0, 0],\n",
       "       [0, 0, 0, ..., 0, 0, 0],\n",
       "       [0, 0, 0, ..., 0, 0, 0]], dtype=int64)"
      ]
     },
     "execution_count": 29,
     "metadata": {},
     "output_type": "execute_result"
    }
   ],
   "source": [
    "#change in array\n",
    "X_train_cv.toarray()"
   ]
  },
  {
   "cell_type": "code",
   "execution_count": 30,
   "id": "ba38eedd",
   "metadata": {},
   "outputs": [
    {
     "data": {
      "text/plain": [
       "array([[0, 0, 0, ..., 0, 0, 0],\n",
       "       [0, 0, 0, ..., 0, 0, 0],\n",
       "       [0, 0, 0, ..., 0, 0, 0],\n",
       "       ...,\n",
       "       [0, 0, 0, ..., 0, 0, 0],\n",
       "       [0, 0, 0, ..., 0, 0, 0],\n",
       "       [0, 0, 0, ..., 0, 0, 0]], dtype=int64)"
      ]
     },
     "execution_count": 30,
     "metadata": {},
     "output_type": "execute_result"
    }
   ],
   "source": [
    "X_test_cv.toarray()"
   ]
  },
  {
   "cell_type": "code",
   "execution_count": 31,
   "id": "9e1dd219",
   "metadata": {},
   "outputs": [
    {
     "data": {
      "text/plain": [
       "['aah',\n",
       " 'aaooooright',\n",
       " 'aathi',\n",
       " 'ab',\n",
       " 'abbey',\n",
       " 'abeg',\n",
       " 'abel',\n",
       " 'abi',\n",
       " 'ability',\n",
       " 'abiola',\n",
       " 'abj',\n",
       " 'able',\n",
       " 'abnormally',\n",
       " 'aboutas',\n",
       " 'abroad',\n",
       " 'absolutely',\n",
       " 'absolutly',\n",
       " 'abstract',\n",
       " 'abt',\n",
       " 'abta',\n",
       " 'aburo',\n",
       " 'abuser',\n",
       " 'ac',\n",
       " 'academic',\n",
       " 'acc',\n",
       " 'accent',\n",
       " 'accenture',\n",
       " 'accept',\n",
       " 'access',\n",
       " 'accessible',\n",
       " 'accidant',\n",
       " 'accident',\n",
       " 'accidentally',\n",
       " 'accommodation',\n",
       " 'accommodationvouchers',\n",
       " 'accomodate',\n",
       " 'accomodations',\n",
       " 'accordin',\n",
       " 'accordingly',\n",
       " 'account',\n",
       " 'accounting',\n",
       " 'accumulation',\n",
       " 'ache',\n",
       " 'acid',\n",
       " 'acnt',\n",
       " 'aco',\n",
       " 'across',\n",
       " 'acted',\n",
       " 'actin',\n",
       " 'action',\n",
       " 'activate',\n",
       " 'active',\n",
       " 'activity',\n",
       " 'actor',\n",
       " 'actual',\n",
       " 'actually',\n",
       " 'ad',\n",
       " 'adam',\n",
       " 'add',\n",
       " 'addamsfa',\n",
       " 'added',\n",
       " 'addicted',\n",
       " 'addie',\n",
       " 'adding',\n",
       " 'address',\n",
       " 'adi',\n",
       " 'adjustable',\n",
       " 'admin',\n",
       " 'administrator',\n",
       " 'admirer',\n",
       " 'admission',\n",
       " 'adore',\n",
       " 'adoring',\n",
       " 'adress',\n",
       " 'adsense',\n",
       " 'adult',\n",
       " 'advance',\n",
       " 'adventure',\n",
       " 'advice',\n",
       " 'advise',\n",
       " 'advisor',\n",
       " 'afew',\n",
       " 'affair',\n",
       " 'affection',\n",
       " 'affectionate',\n",
       " 'affidavit',\n",
       " 'afford',\n",
       " 'afghanistan',\n",
       " 'afraid',\n",
       " 'african',\n",
       " 'aft',\n",
       " 'afternoon',\n",
       " 'afterwards',\n",
       " 'aftr',\n",
       " 'ag',\n",
       " 'agalla',\n",
       " 'age',\n",
       " 'agency',\n",
       " 'agent',\n",
       " 'aging',\n",
       " 'ago',\n",
       " 'agree',\n",
       " 'ah',\n",
       " 'aha',\n",
       " 'ahead',\n",
       " 'ahhh',\n",
       " 'ahmad',\n",
       " 'ahold',\n",
       " 'ai',\n",
       " 'aid',\n",
       " 'aig',\n",
       " 'aight',\n",
       " 'aint',\n",
       " 'air',\n",
       " 'airport',\n",
       " 'airtel',\n",
       " 'aiya',\n",
       " 'aiyah',\n",
       " 'aiyar',\n",
       " 'aiyo',\n",
       " 'ajith',\n",
       " 'ak',\n",
       " 'aka',\n",
       " 'al',\n",
       " 'alaipayuthe',\n",
       " 'album',\n",
       " 'alcohol',\n",
       " 'aldrine',\n",
       " 'alert',\n",
       " 'alertfrom',\n",
       " 'alex',\n",
       " 'alfie',\n",
       " 'algarve',\n",
       " 'algebra',\n",
       " 'algorithm',\n",
       " 'ali',\n",
       " 'alian',\n",
       " 'alibi',\n",
       " 'alive',\n",
       " 'allah',\n",
       " 'allalo',\n",
       " 'allday',\n",
       " 'alle',\n",
       " 'allow',\n",
       " 'allowed',\n",
       " 'allows',\n",
       " 'almost',\n",
       " 'alone',\n",
       " 'along',\n",
       " 'already',\n",
       " 'alright',\n",
       " 'alrite',\n",
       " 'also',\n",
       " 'alter',\n",
       " 'although',\n",
       " 'alwa',\n",
       " 'always',\n",
       " 'alwys',\n",
       " 'amazing',\n",
       " 'ambitious',\n",
       " 'ambrith',\n",
       " 'american',\n",
       " 'ami',\n",
       " 'amigo',\n",
       " 'amk',\n",
       " 'ammo',\n",
       " 'among',\n",
       " 'amongst',\n",
       " 'amore',\n",
       " 'amount',\n",
       " 'amp',\n",
       " 'amplikater',\n",
       " 'amrca',\n",
       " 'amt',\n",
       " 'amused',\n",
       " 'amy',\n",
       " 'an',\n",
       " 'ana',\n",
       " 'analysis',\n",
       " 'anderson',\n",
       " 'andres',\n",
       " 'andros',\n",
       " 'angel',\n",
       " 'angry',\n",
       " 'animal',\n",
       " 'animation',\n",
       " 'anjie',\n",
       " 'anjola',\n",
       " 'anna',\n",
       " 'annie',\n",
       " 'anniversary',\n",
       " 'annoncement',\n",
       " 'announced',\n",
       " 'announcement',\n",
       " 'annoyin',\n",
       " 'anot',\n",
       " 'another',\n",
       " 'ansr',\n",
       " 'answer',\n",
       " 'answered',\n",
       " 'answerin',\n",
       " 'answering',\n",
       " 'answr',\n",
       " 'antelope',\n",
       " 'antha',\n",
       " 'anthony',\n",
       " 'anti',\n",
       " 'anybody',\n",
       " 'anymore',\n",
       " 'anyone',\n",
       " 'anyones',\n",
       " 'anyplaces',\n",
       " 'anythiing',\n",
       " 'anythin',\n",
       " 'anything',\n",
       " 'anythingtomorrow',\n",
       " 'anytime',\n",
       " 'anyway',\n",
       " 'anyways',\n",
       " 'anywhere',\n",
       " 'aom',\n",
       " 'apart',\n",
       " 'apartment',\n",
       " 'apeshit',\n",
       " 'aphexåõs',\n",
       " 'apnt',\n",
       " 'apo',\n",
       " 'apologetic',\n",
       " 'apologise',\n",
       " 'app',\n",
       " 'apparently',\n",
       " 'appeal',\n",
       " 'appendix',\n",
       " 'applebees',\n",
       " 'application',\n",
       " 'apply',\n",
       " 'applying',\n",
       " 'appointment',\n",
       " 'appreciate',\n",
       " 'appreciated',\n",
       " 'approach',\n",
       " 'approaching',\n",
       " 'appropriate',\n",
       " 'approved',\n",
       " 'approx',\n",
       " 'apps',\n",
       " 'appt',\n",
       " 'appy',\n",
       " 'april',\n",
       " 'apt',\n",
       " 'aquarius',\n",
       " 'ar',\n",
       " 'arab',\n",
       " 'arabian',\n",
       " 'archive',\n",
       " 'ard',\n",
       " 'area',\n",
       " 'arent',\n",
       " 'aretaking',\n",
       " 'argh',\n",
       " 'argue',\n",
       " 'arguing',\n",
       " 'argument',\n",
       " 'aries',\n",
       " 'arm',\n",
       " 'armand',\n",
       " 'armenia',\n",
       " 'arng',\n",
       " 'arnt',\n",
       " 'around',\n",
       " 'arrange',\n",
       " 'arrested',\n",
       " 'arrival',\n",
       " 'arrive',\n",
       " 'arrived',\n",
       " 'arrow',\n",
       " 'arsenal',\n",
       " 'art',\n",
       " 'artist',\n",
       " 'arty',\n",
       " 'arul',\n",
       " 'arun',\n",
       " 'as',\n",
       " 'asa',\n",
       " 'asap',\n",
       " 'asda',\n",
       " 'ash',\n",
       " 'ashwini',\n",
       " 'asia',\n",
       " 'asian',\n",
       " 'ask',\n",
       " 'askd',\n",
       " 'asked',\n",
       " 'askin',\n",
       " 'asking',\n",
       " 'asks',\n",
       " 'asleep',\n",
       " 'assessment',\n",
       " 'assistance',\n",
       " 'assume',\n",
       " 'assumed',\n",
       " 'asthere',\n",
       " 'astne',\n",
       " 'astrology',\n",
       " 'astronomer',\n",
       " 'asus',\n",
       " 'asusual',\n",
       " 'ate',\n",
       " 'atlanta',\n",
       " 'atlast',\n",
       " 'atm',\n",
       " 'atrocious',\n",
       " 'attach',\n",
       " 'attached',\n",
       " 'attempt',\n",
       " 'atten',\n",
       " 'attend',\n",
       " 'attended',\n",
       " 'attending',\n",
       " 'attention',\n",
       " 'attitude',\n",
       " 'attracts',\n",
       " 'attributed',\n",
       " 'auction',\n",
       " 'audition',\n",
       " 'audrey',\n",
       " 'audrie',\n",
       " 'august',\n",
       " 'aunt',\n",
       " 'auntie',\n",
       " 'aunty',\n",
       " 'aust',\n",
       " 'australia',\n",
       " 'authorise',\n",
       " 'auto',\n",
       " 'autocorrect',\n",
       " 'av',\n",
       " 'available',\n",
       " 'avalarr',\n",
       " 'avatar',\n",
       " 'ave',\n",
       " 'avenge',\n",
       " 'avent',\n",
       " 'avo',\n",
       " 'avoid',\n",
       " 'avoiding',\n",
       " 'avoids',\n",
       " 'await',\n",
       " 'awaiting',\n",
       " 'awake',\n",
       " 'award',\n",
       " 'awarded',\n",
       " 'away',\n",
       " 'awesome',\n",
       " 'awkward',\n",
       " 'aww',\n",
       " 'ax',\n",
       " 'axis',\n",
       " 'ayn',\n",
       " 'ayo',\n",
       " 'baaaaaaaabe',\n",
       " 'baaaaabe',\n",
       " 'babe',\n",
       " 'baby',\n",
       " 'babygoodbye',\n",
       " 'babyjontet',\n",
       " 'babysit',\n",
       " 'back',\n",
       " 'backdoor',\n",
       " 'backwards',\n",
       " 'bad',\n",
       " 'badass',\n",
       " 'badly',\n",
       " 'badrith',\n",
       " 'bag',\n",
       " 'baig',\n",
       " 'bak',\n",
       " 'bakra',\n",
       " 'bakrid',\n",
       " 'balance',\n",
       " 'ball',\n",
       " 'balloon',\n",
       " 'bam',\n",
       " 'bambling',\n",
       " 'band',\n",
       " 'bang',\n",
       " 'bangb',\n",
       " 'bangbabes',\n",
       " 'bank',\n",
       " 'banned',\n",
       " 'banot',\n",
       " 'bao',\n",
       " 'bar',\n",
       " 'bare',\n",
       " 'barely',\n",
       " 'barkley',\n",
       " 'barmed',\n",
       " 'barolla',\n",
       " 'barred',\n",
       " 'barrel',\n",
       " 'barring',\n",
       " 'barry',\n",
       " 'base',\n",
       " 'bash',\n",
       " 'basic',\n",
       " 'basically',\n",
       " 'basketball',\n",
       " 'basq',\n",
       " 'bat',\n",
       " 'batch',\n",
       " 'batchlor',\n",
       " 'bath',\n",
       " 'bathe',\n",
       " 'bathing',\n",
       " 'batsman',\n",
       " 'batt',\n",
       " 'battery',\n",
       " 'bay',\n",
       " 'bb',\n",
       " 'bbd',\n",
       " 'bbq',\n",
       " 'bc',\n",
       " 'bcaz',\n",
       " 'bck',\n",
       " 'bcm',\n",
       " 'bcoz',\n",
       " 'bcum',\n",
       " 'bcums',\n",
       " 'bcz',\n",
       " 'bday',\n",
       " 'beach',\n",
       " 'bear',\n",
       " 'beautiful',\n",
       " 'beauty',\n",
       " 'becaus',\n",
       " 'become',\n",
       " 'becomes',\n",
       " 'becoz',\n",
       " 'becz',\n",
       " 'bed',\n",
       " 'bedroom',\n",
       " 'beehoon',\n",
       " 'beendropping',\n",
       " 'beer',\n",
       " 'beerage',\n",
       " 'befor',\n",
       " 'beg',\n",
       " 'beggar',\n",
       " 'begging',\n",
       " 'begin',\n",
       " 'begun',\n",
       " 'behalf',\n",
       " 'behave',\n",
       " 'behind',\n",
       " 'bein',\n",
       " 'believe',\n",
       " 'belive',\n",
       " 'bell',\n",
       " 'bellearlier',\n",
       " 'belligerent',\n",
       " 'belly',\n",
       " 'belong',\n",
       " 'belongs',\n",
       " 'belovd',\n",
       " 'beloved',\n",
       " 'belt',\n",
       " 'ben',\n",
       " 'bend',\n",
       " 'beneath',\n",
       " 'beneficiary',\n",
       " 'benefit',\n",
       " 'benny',\n",
       " 'bergkamp',\n",
       " 'beside',\n",
       " 'best',\n",
       " 'bet',\n",
       " 'beta',\n",
       " 'beth',\n",
       " 'betta',\n",
       " 'better',\n",
       " 'bettersn',\n",
       " 'beware',\n",
       " 'beyond',\n",
       " 'bf',\n",
       " 'bffs',\n",
       " 'bhaji',\n",
       " 'bhaskar',\n",
       " 'biatch',\n",
       " 'bid',\n",
       " 'big',\n",
       " 'bigger',\n",
       " 'biggest',\n",
       " 'bike',\n",
       " 'bill',\n",
       " 'billed',\n",
       " 'billing',\n",
       " 'billion',\n",
       " 'billy',\n",
       " 'bilo',\n",
       " 'bin',\n",
       " 'bird',\n",
       " 'birla',\n",
       " 'birth',\n",
       " 'birthdate',\n",
       " 'birthday',\n",
       " 'bishan',\n",
       " 'bit',\n",
       " 'bitch',\n",
       " 'bitching',\n",
       " 'bite',\n",
       " 'bk',\n",
       " 'black',\n",
       " 'blackberry',\n",
       " 'blacko',\n",
       " 'blah',\n",
       " 'blake',\n",
       " 'blame',\n",
       " 'blanked',\n",
       " 'blanket',\n",
       " 'bleh',\n",
       " 'bless',\n",
       " 'blessed',\n",
       " 'blessing',\n",
       " 'blimey',\n",
       " 'block',\n",
       " 'blocked',\n",
       " 'blog',\n",
       " 'blogging',\n",
       " 'bloke',\n",
       " 'blonde',\n",
       " 'bloo',\n",
       " 'blood',\n",
       " 'bloody',\n",
       " 'bloomberg',\n",
       " 'blow',\n",
       " 'blowing',\n",
       " 'blue',\n",
       " 'bluetooth',\n",
       " 'bluff',\n",
       " 'blur',\n",
       " 'bluray',\n",
       " 'bmw',\n",
       " 'board',\n",
       " 'boat',\n",
       " 'boatin',\n",
       " 'bob',\n",
       " 'body',\n",
       " 'boggy',\n",
       " 'bognor',\n",
       " 'bold',\n",
       " 'bollox',\n",
       " 'bone',\n",
       " 'bonus',\n",
       " 'boo',\n",
       " 'boob',\n",
       " 'book',\n",
       " 'booked',\n",
       " 'bookedthe',\n",
       " 'bookshelf',\n",
       " 'boooo',\n",
       " 'booty',\n",
       " 'bootydelious',\n",
       " 'bored',\n",
       " 'borin',\n",
       " 'boring',\n",
       " 'born',\n",
       " 'borrow',\n",
       " 'bos',\n",
       " 'boston',\n",
       " 'bother',\n",
       " 'bothering',\n",
       " 'bottle',\n",
       " 'bottom',\n",
       " 'bought',\n",
       " 'boughtåóbraindanceåóa',\n",
       " 'boundary',\n",
       " 'bout',\n",
       " 'bowa',\n",
       " 'bowl',\n",
       " 'box',\n",
       " 'boy',\n",
       " 'boye',\n",
       " 'boyfriend',\n",
       " 'boytoy',\n",
       " 'bpo',\n",
       " 'bra',\n",
       " 'brah',\n",
       " 'brain',\n",
       " 'brainless',\n",
       " 'brainy',\n",
       " 'brand',\n",
       " 'brandy',\n",
       " 'bray',\n",
       " 'brdget',\n",
       " 'bread',\n",
       " 'breadstick',\n",
       " 'break',\n",
       " 'breakin',\n",
       " 'breaking',\n",
       " 'breath',\n",
       " 'breathing',\n",
       " 'breeze',\n",
       " 'breezy',\n",
       " 'bribe',\n",
       " 'bridge',\n",
       " 'brief',\n",
       " 'bright',\n",
       " 'brighten',\n",
       " 'brilliant',\n",
       " 'brin',\n",
       " 'bring',\n",
       " 'bringing',\n",
       " 'brings',\n",
       " 'brison',\n",
       " 'bristol',\n",
       " 'british',\n",
       " 'britney',\n",
       " 'bro',\n",
       " 'broad',\n",
       " 'broadband',\n",
       " 'broke',\n",
       " 'broken',\n",
       " 'brolly',\n",
       " 'bros',\n",
       " 'broth',\n",
       " 'brothas',\n",
       " 'brother',\n",
       " 'brought',\n",
       " 'brownie',\n",
       " 'browse',\n",
       " 'browser',\n",
       " 'browsin',\n",
       " 'bruce',\n",
       " 'bruv',\n",
       " 'bslvyl',\n",
       " 'bstfrnd',\n",
       " 'bt',\n",
       " 'btw',\n",
       " 'buck',\n",
       " 'bud',\n",
       " 'buddy',\n",
       " 'budget',\n",
       " 'buen',\n",
       " 'buff',\n",
       " 'buffet',\n",
       " 'buffy',\n",
       " 'bugis',\n",
       " 'build',\n",
       " 'building',\n",
       " 'bulb',\n",
       " 'bullshit',\n",
       " 'bun',\n",
       " 'bunch',\n",
       " 'bunker',\n",
       " 'burden',\n",
       " 'burger',\n",
       " 'burgundy',\n",
       " 'burial',\n",
       " 'burn',\n",
       " 'burning',\n",
       " 'burnt',\n",
       " 'burrito',\n",
       " 'bus',\n",
       " 'busetop',\n",
       " 'business',\n",
       " 'busy',\n",
       " 'butt',\n",
       " 'buttheres',\n",
       " 'button',\n",
       " 'buy',\n",
       " 'buyer',\n",
       " 'buying',\n",
       " 'buzy',\n",
       " 'buzz',\n",
       " 'buzzzz',\n",
       " 'bw',\n",
       " 'bx',\n",
       " 'byatch',\n",
       " 'bye',\n",
       " 'byåóleafcutter',\n",
       " 'båõday',\n",
       " 'ca',\n",
       " 'cab',\n",
       " 'cabin',\n",
       " 'cable',\n",
       " 'cafe',\n",
       " 'cage',\n",
       " 'cake',\n",
       " 'cal',\n",
       " 'calculated',\n",
       " 'calculation',\n",
       " 'cali',\n",
       " 'calicut',\n",
       " 'california',\n",
       " 'call',\n",
       " 'callback',\n",
       " 'callcost',\n",
       " 'called',\n",
       " 'caller',\n",
       " 'callertune',\n",
       " 'callfreefone',\n",
       " 'callin',\n",
       " 'calling',\n",
       " 'callon',\n",
       " 'calm',\n",
       " 'cam',\n",
       " 'camcorder',\n",
       " 'came',\n",
       " 'camera',\n",
       " 'camp',\n",
       " 'campus',\n",
       " 'camry',\n",
       " 'canada',\n",
       " 'canal',\n",
       " 'canary',\n",
       " 'cancel',\n",
       " 'canceled',\n",
       " 'cancer',\n",
       " 'canlove',\n",
       " 'canname',\n",
       " 'cant',\n",
       " 'cantdo',\n",
       " 'canteen',\n",
       " 'canåõt',\n",
       " 'cap',\n",
       " 'capacity',\n",
       " 'capital',\n",
       " 'cappuccino',\n",
       " 'captain',\n",
       " 'captaining',\n",
       " 'car',\n",
       " 'card',\n",
       " 'cardiff',\n",
       " 'cardin',\n",
       " 'care',\n",
       " 'cared',\n",
       " 'career',\n",
       " 'careful',\n",
       " 'carefully',\n",
       " 'careless',\n",
       " 'caring',\n",
       " 'carlie',\n",
       " 'carlos',\n",
       " 'carly',\n",
       " 'carolina',\n",
       " 'caroline',\n",
       " 'carpark',\n",
       " 'carry',\n",
       " 'cartoon',\n",
       " 'case',\n",
       " 'cash',\n",
       " 'cashed',\n",
       " 'cashto',\n",
       " 'casing',\n",
       " 'cast',\n",
       " 'casting',\n",
       " 'castor',\n",
       " 'casualty',\n",
       " 'cat',\n",
       " 'catch',\n",
       " 'catching',\n",
       " 'category',\n",
       " 'caught',\n",
       " 'cause',\n",
       " 'causing',\n",
       " 'caveboy',\n",
       " 'cbe',\n",
       " 'cc',\n",
       " 'ccna',\n",
       " 'cd',\n",
       " 'cdgt',\n",
       " 'cedar',\n",
       " 'celeb',\n",
       " 'celebrate',\n",
       " 'celebrated',\n",
       " 'celebration',\n",
       " 'cell',\n",
       " 'census',\n",
       " 'center',\n",
       " 'centre',\n",
       " 'cer',\n",
       " 'certainly',\n",
       " 'certificate',\n",
       " 'chachi',\n",
       " 'chad',\n",
       " 'chain',\n",
       " 'challenge',\n",
       " 'challenging',\n",
       " 'chance',\n",
       " 'change',\n",
       " 'changed',\n",
       " 'channel',\n",
       " 'chap',\n",
       " 'chapel',\n",
       " 'chapter',\n",
       " 'character',\n",
       " 'charge',\n",
       " 'charged',\n",
       " 'charity',\n",
       " 'charles',\n",
       " 'charlie',\n",
       " 'charming',\n",
       " 'chart',\n",
       " 'chase',\n",
       " 'chasing',\n",
       " 'chat',\n",
       " 'chatter',\n",
       " 'chatting',\n",
       " 'cheap',\n",
       " 'cheaper',\n",
       " 'cheat',\n",
       " 'cheating',\n",
       " 'chechi',\n",
       " 'check',\n",
       " 'checkboxes',\n",
       " 'checked',\n",
       " 'checkin',\n",
       " 'checking',\n",
       " 'checkup',\n",
       " 'cheek',\n",
       " 'cheer',\n",
       " 'cheered',\n",
       " 'cheery',\n",
       " 'cheetos',\n",
       " 'chennai',\n",
       " 'cheque',\n",
       " 'cherish',\n",
       " 'chest',\n",
       " 'chex',\n",
       " 'cheyyamo',\n",
       " 'chez',\n",
       " 'chg',\n",
       " 'chick',\n",
       " 'chicken',\n",
       " 'chik',\n",
       " 'chikku',\n",
       " 'child',\n",
       " 'childish',\n",
       " 'childporn',\n",
       " 'childrens',\n",
       " 'chile',\n",
       " 'chill',\n",
       " 'chillin',\n",
       " 'china',\n",
       " 'chinatown',\n",
       " 'chinese',\n",
       " 'chiong',\n",
       " 'chip',\n",
       " 'chk',\n",
       " 'chocolate',\n",
       " 'choice',\n",
       " 'choose',\n",
       " 'choosing',\n",
       " 'chop',\n",
       " 'chord',\n",
       " 'chore',\n",
       " 'chosen',\n",
       " 'christ',\n",
       " 'christian',\n",
       " 'christmas',\n",
       " 'christmassy',\n",
       " 'chuck',\n",
       " 'church',\n",
       " 'ciao',\n",
       " 'cine',\n",
       " 'cinema',\n",
       " 'citizen',\n",
       " 'city',\n",
       " 'citylink',\n",
       " 'cl',\n",
       " 'claim',\n",
       " 'claimcode',\n",
       " 'claire',\n",
       " 'clarification',\n",
       " 'clash',\n",
       " 'class',\n",
       " 'classic',\n",
       " 'claypot',\n",
       " 'cld',\n",
       " 'clean',\n",
       " 'cleaning',\n",
       " 'clear',\n",
       " 'clearer',\n",
       " 'clearing',\n",
       " 'clearly',\n",
       " 'clever',\n",
       " 'click',\n",
       " 'cliff',\n",
       " 'clip',\n",
       " 'clock',\n",
       " 'close',\n",
       " 'closeby',\n",
       " 'closed',\n",
       " 'closer',\n",
       " 'cloth',\n",
       " 'cloud',\n",
       " 'clover',\n",
       " 'club',\n",
       " 'clubsaisai',\n",
       " 'clue',\n",
       " 'cm',\n",
       " 'cme',\n",
       " 'cmon',\n",
       " 'cn',\n",
       " 'cnn',\n",
       " 'cnot',\n",
       " 'co',\n",
       " 'coast',\n",
       " 'coat',\n",
       " 'cochin',\n",
       " 'cock',\n",
       " 'coco',\n",
       " 'code',\n",
       " 'coffee',\n",
       " 'coimbatore',\n",
       " 'coin',\n",
       " 'cold',\n",
       " 'colin',\n",
       " 'collage',\n",
       " 'colleague',\n",
       " 'collect',\n",
       " 'collected',\n",
       " 'collecting',\n",
       " 'collection',\n",
       " 'colleg',\n",
       " 'college',\n",
       " 'colour',\n",
       " 'com',\n",
       " 'comb',\n",
       " 'combination',\n",
       " 'combine',\n",
       " 'come',\n",
       " 'comedy',\n",
       " 'comfey',\n",
       " 'comin',\n",
       " 'coming',\n",
       " 'comingdown',\n",
       " 'command',\n",
       " 'comment',\n",
       " 'commercial',\n",
       " 'commit',\n",
       " 'common',\n",
       " 'community',\n",
       " 'comp',\n",
       " 'company',\n",
       " 'compare',\n",
       " 'compass',\n",
       " 'competition',\n",
       " 'complaint',\n",
       " 'complementary',\n",
       " 'complete',\n",
       " 'completed',\n",
       " 'completely',\n",
       " 'completes',\n",
       " 'completing',\n",
       " 'complexity',\n",
       " 'compliment',\n",
       " 'complimentary',\n",
       " 'comprehensive',\n",
       " 'compulsory',\n",
       " 'computer',\n",
       " 'computerless',\n",
       " 'con',\n",
       " 'conacted',\n",
       " 'concentrate',\n",
       " 'concentrating',\n",
       " 'concern',\n",
       " 'concert',\n",
       " 'conclusion',\n",
       " 'condition',\n",
       " 'conduct',\n",
       " 'conected',\n",
       " 'confidence',\n",
       " 'confirm',\n",
       " 'confirmd',\n",
       " 'confirmed',\n",
       " 'confused',\n",
       " 'confuses',\n",
       " 'congrats',\n",
       " 'congratulation',\n",
       " 'connect',\n",
       " 'connected',\n",
       " 'connection',\n",
       " 'consensus',\n",
       " 'consent',\n",
       " 'conserve',\n",
       " 'consider',\n",
       " 'considering',\n",
       " 'constant',\n",
       " 'constantly',\n",
       " 'contact',\n",
       " 'contacted',\n",
       " 'contains',\n",
       " 'content',\n",
       " 'contented',\n",
       " 'contention',\n",
       " 'continent',\n",
       " 'continue',\n",
       " 'contract',\n",
       " 'contribute',\n",
       " ...]"
      ]
     },
     "execution_count": 31,
     "metadata": {},
     "output_type": "execute_result"
    }
   ],
   "source": [
    "#see columns name\n",
    "cv.get_feature_names()\n",
    "\n",
    "#inbuilt method of count vectorization"
   ]
  },
  {
   "cell_type": "code",
   "execution_count": 32,
   "id": "c7e7726d",
   "metadata": {},
   "outputs": [
    {
     "data": {
      "text/plain": [
       "DecisionTreeClassifier()"
      ]
     },
     "execution_count": 32,
     "metadata": {},
     "output_type": "execute_result"
    }
   ],
   "source": [
    "#train the data with classsification\n",
    "from sklearn.tree import DecisionTreeClassifier\n",
    "dt=DecisionTreeClassifier()\n",
    "dt"
   ]
  },
  {
   "cell_type": "code",
   "execution_count": 33,
   "id": "e1cbd69b",
   "metadata": {},
   "outputs": [
    {
     "data": {
      "text/plain": [
       "DecisionTreeClassifier()"
      ]
     },
     "execution_count": 33,
     "metadata": {},
     "output_type": "execute_result"
    }
   ],
   "source": [
    "#TRAIN THE model\n",
    "dt.fit(X_train_cv,Y_train)"
   ]
  },
  {
   "cell_type": "code",
   "execution_count": 34,
   "id": "888381fd",
   "metadata": {},
   "outputs": [],
   "source": [
    "#test model\n",
    "Y_pred=dt.predict(X_test_cv)"
   ]
  },
  {
   "cell_type": "code",
   "execution_count": 35,
   "id": "a38858ce",
   "metadata": {},
   "outputs": [
    {
     "name": "stdout",
     "output_type": "stream",
     "text": [
      "              precision    recall  f1-score   support\n",
      "\n",
      "           0       0.97      0.98      0.98      1454\n",
      "           1       0.88      0.82      0.85       218\n",
      "\n",
      "    accuracy                           0.96      1672\n",
      "   macro avg       0.93      0.90      0.91      1672\n",
      "weighted avg       0.96      0.96      0.96      1672\n",
      "\n",
      "[[1429   25]\n",
      " [  39  179]]\n"
     ]
    }
   ],
   "source": [
    "#print classification report\n",
    "from sklearn.metrics import classification_report,confusion_matrix\n",
    "print(classification_report(Y_test,Y_pred))\n",
    "print(confusion_matrix(Y_test,Y_pred))\n"
   ]
  },
  {
   "cell_type": "code",
   "execution_count": 36,
   "id": "36343443",
   "metadata": {},
   "outputs": [
    {
     "data": {
      "text/plain": [
       "array([0., 0., 0., 0., 0., 0., 0., 0., 0., 0.])"
      ]
     },
     "execution_count": 36,
     "metadata": {},
     "output_type": "execute_result"
    }
   ],
   "source": [
    "#to show important features\n",
    "dt.feature_importances_[:10]"
   ]
  },
  {
   "cell_type": "code",
   "execution_count": 37,
   "id": "6965bcaa",
   "metadata": {},
   "outputs": [],
   "source": [
    "#Secondly , we are trying the second technique : - TFIDF vectorizer : \n",
    "#to converts text into number(vector)\n",
    "#call TfidfVectorizer class  : it is already called above\n",
    "#create object of TfidfVectorizer class\n",
    "tf=TfidfVectorizer()\n"
   ]
  },
  {
   "cell_type": "code",
   "execution_count": 38,
   "id": "857c1033",
   "metadata": {},
   "outputs": [],
   "source": [
    "X_train_tf=tf.fit_transform(X_train)\n",
    "X_test_tf=tf.transform(X_test)"
   ]
  },
  {
   "cell_type": "code",
   "execution_count": 39,
   "id": "b9fc0b2e",
   "metadata": {},
   "outputs": [
    {
     "data": {
      "text/html": [
       "<div>\n",
       "<style scoped>\n",
       "    .dataframe tbody tr th:only-of-type {\n",
       "        vertical-align: middle;\n",
       "    }\n",
       "\n",
       "    .dataframe tbody tr th {\n",
       "        vertical-align: top;\n",
       "    }\n",
       "\n",
       "    .dataframe thead th {\n",
       "        text-align: right;\n",
       "    }\n",
       "</style>\n",
       "<table border=\"1\" class=\"dataframe\">\n",
       "  <thead>\n",
       "    <tr style=\"text-align: right;\">\n",
       "      <th></th>\n",
       "      <th>aah</th>\n",
       "      <th>aaooooright</th>\n",
       "      <th>aathi</th>\n",
       "      <th>ab</th>\n",
       "      <th>abbey</th>\n",
       "      <th>abeg</th>\n",
       "      <th>abel</th>\n",
       "      <th>abi</th>\n",
       "      <th>ability</th>\n",
       "      <th>abiola</th>\n",
       "      <th>...</th>\n",
       "      <th>zoe</th>\n",
       "      <th>zogtorius</th>\n",
       "      <th>zoom</th>\n",
       "      <th>zouk</th>\n",
       "      <th>zyada</th>\n",
       "      <th>åð</th>\n",
       "      <th>åòharry</th>\n",
       "      <th>åòit</th>\n",
       "      <th>åômorrow</th>\n",
       "      <th>ìï</th>\n",
       "    </tr>\n",
       "  </thead>\n",
       "  <tbody>\n",
       "    <tr>\n",
       "      <th>0</th>\n",
       "      <td>0.0</td>\n",
       "      <td>0.0</td>\n",
       "      <td>0.0</td>\n",
       "      <td>0.0</td>\n",
       "      <td>0.0</td>\n",
       "      <td>0.0</td>\n",
       "      <td>0.0</td>\n",
       "      <td>0.0</td>\n",
       "      <td>0.0</td>\n",
       "      <td>0.0</td>\n",
       "      <td>...</td>\n",
       "      <td>0.0</td>\n",
       "      <td>0.0</td>\n",
       "      <td>0.0</td>\n",
       "      <td>0.0</td>\n",
       "      <td>0.0</td>\n",
       "      <td>0.0</td>\n",
       "      <td>0.0</td>\n",
       "      <td>0.0</td>\n",
       "      <td>0.0</td>\n",
       "      <td>0.0</td>\n",
       "    </tr>\n",
       "    <tr>\n",
       "      <th>1</th>\n",
       "      <td>0.0</td>\n",
       "      <td>0.0</td>\n",
       "      <td>0.0</td>\n",
       "      <td>0.0</td>\n",
       "      <td>0.0</td>\n",
       "      <td>0.0</td>\n",
       "      <td>0.0</td>\n",
       "      <td>0.0</td>\n",
       "      <td>0.0</td>\n",
       "      <td>0.0</td>\n",
       "      <td>...</td>\n",
       "      <td>0.0</td>\n",
       "      <td>0.0</td>\n",
       "      <td>0.0</td>\n",
       "      <td>0.0</td>\n",
       "      <td>0.0</td>\n",
       "      <td>0.0</td>\n",
       "      <td>0.0</td>\n",
       "      <td>0.0</td>\n",
       "      <td>0.0</td>\n",
       "      <td>0.0</td>\n",
       "    </tr>\n",
       "    <tr>\n",
       "      <th>2</th>\n",
       "      <td>0.0</td>\n",
       "      <td>0.0</td>\n",
       "      <td>0.0</td>\n",
       "      <td>0.0</td>\n",
       "      <td>0.0</td>\n",
       "      <td>0.0</td>\n",
       "      <td>0.0</td>\n",
       "      <td>0.0</td>\n",
       "      <td>0.0</td>\n",
       "      <td>0.0</td>\n",
       "      <td>...</td>\n",
       "      <td>0.0</td>\n",
       "      <td>0.0</td>\n",
       "      <td>0.0</td>\n",
       "      <td>0.0</td>\n",
       "      <td>0.0</td>\n",
       "      <td>0.0</td>\n",
       "      <td>0.0</td>\n",
       "      <td>0.0</td>\n",
       "      <td>0.0</td>\n",
       "      <td>0.0</td>\n",
       "    </tr>\n",
       "    <tr>\n",
       "      <th>3</th>\n",
       "      <td>0.0</td>\n",
       "      <td>0.0</td>\n",
       "      <td>0.0</td>\n",
       "      <td>0.0</td>\n",
       "      <td>0.0</td>\n",
       "      <td>0.0</td>\n",
       "      <td>0.0</td>\n",
       "      <td>0.0</td>\n",
       "      <td>0.0</td>\n",
       "      <td>0.0</td>\n",
       "      <td>...</td>\n",
       "      <td>0.0</td>\n",
       "      <td>0.0</td>\n",
       "      <td>0.0</td>\n",
       "      <td>0.0</td>\n",
       "      <td>0.0</td>\n",
       "      <td>0.0</td>\n",
       "      <td>0.0</td>\n",
       "      <td>0.0</td>\n",
       "      <td>0.0</td>\n",
       "      <td>0.0</td>\n",
       "    </tr>\n",
       "    <tr>\n",
       "      <th>4</th>\n",
       "      <td>0.0</td>\n",
       "      <td>0.0</td>\n",
       "      <td>0.0</td>\n",
       "      <td>0.0</td>\n",
       "      <td>0.0</td>\n",
       "      <td>0.0</td>\n",
       "      <td>0.0</td>\n",
       "      <td>0.0</td>\n",
       "      <td>0.0</td>\n",
       "      <td>0.0</td>\n",
       "      <td>...</td>\n",
       "      <td>0.0</td>\n",
       "      <td>0.0</td>\n",
       "      <td>0.0</td>\n",
       "      <td>0.0</td>\n",
       "      <td>0.0</td>\n",
       "      <td>0.0</td>\n",
       "      <td>0.0</td>\n",
       "      <td>0.0</td>\n",
       "      <td>0.0</td>\n",
       "      <td>0.0</td>\n",
       "    </tr>\n",
       "  </tbody>\n",
       "</table>\n",
       "<p>5 rows × 5518 columns</p>\n",
       "</div>"
      ],
      "text/plain": [
       "   aah  aaooooright  aathi   ab  abbey  abeg  abel  abi  ability  abiola  ...  \\\n",
       "0  0.0          0.0    0.0  0.0    0.0   0.0   0.0  0.0      0.0     0.0  ...   \n",
       "1  0.0          0.0    0.0  0.0    0.0   0.0   0.0  0.0      0.0     0.0  ...   \n",
       "2  0.0          0.0    0.0  0.0    0.0   0.0   0.0  0.0      0.0     0.0  ...   \n",
       "3  0.0          0.0    0.0  0.0    0.0   0.0   0.0  0.0      0.0     0.0  ...   \n",
       "4  0.0          0.0    0.0  0.0    0.0   0.0   0.0  0.0      0.0     0.0  ...   \n",
       "\n",
       "   zoe  zogtorius  zoom  zouk  zyada   åð  åòharry  åòit  åômorrow   ìï  \n",
       "0  0.0        0.0   0.0   0.0    0.0  0.0      0.0   0.0       0.0  0.0  \n",
       "1  0.0        0.0   0.0   0.0    0.0  0.0      0.0   0.0       0.0  0.0  \n",
       "2  0.0        0.0   0.0   0.0    0.0  0.0      0.0   0.0       0.0  0.0  \n",
       "3  0.0        0.0   0.0   0.0    0.0  0.0      0.0   0.0       0.0  0.0  \n",
       "4  0.0        0.0   0.0   0.0    0.0  0.0      0.0   0.0       0.0  0.0  \n",
       "\n",
       "[5 rows x 5518 columns]"
      ]
     },
     "execution_count": 39,
     "metadata": {},
     "output_type": "execute_result"
    }
   ],
   "source": [
    "pd.DataFrame(X_train_tf.toarray(),columns=tf.get_feature_names()).head()"
   ]
  },
  {
   "cell_type": "code",
   "execution_count": 40,
   "id": "3ac1151c",
   "metadata": {},
   "outputs": [],
   "source": [
    "#train the data with classsification\n",
    "dt=DecisionTreeClassifier()"
   ]
  },
  {
   "cell_type": "code",
   "execution_count": 41,
   "id": "4ddb097c",
   "metadata": {},
   "outputs": [
    {
     "data": {
      "text/plain": [
       "DecisionTreeClassifier()"
      ]
     },
     "execution_count": 41,
     "metadata": {},
     "output_type": "execute_result"
    }
   ],
   "source": [
    "#TRAIN THE model\n",
    "dt.fit(X_train_cv,Y_train)"
   ]
  },
  {
   "cell_type": "code",
   "execution_count": 42,
   "id": "76fe13ee",
   "metadata": {},
   "outputs": [],
   "source": [
    "#test model\n",
    "Y_pred=dt.predict(X_test_cv)"
   ]
  },
  {
   "cell_type": "code",
   "execution_count": 43,
   "id": "42ec9233",
   "metadata": {},
   "outputs": [
    {
     "name": "stdout",
     "output_type": "stream",
     "text": [
      "              precision    recall  f1-score   support\n",
      "\n",
      "           0       0.97      0.98      0.98      1454\n",
      "           1       0.87      0.82      0.85       218\n",
      "\n",
      "    accuracy                           0.96      1672\n",
      "   macro avg       0.92      0.90      0.91      1672\n",
      "weighted avg       0.96      0.96      0.96      1672\n",
      "\n",
      "[[1428   26]\n",
      " [  39  179]]\n"
     ]
    }
   ],
   "source": [
    "#print classification report\n",
    "from sklearn.metrics import classification_report,confusion_matrix\n",
    "print(classification_report(Y_test,Y_pred))\n",
    "print(confusion_matrix(Y_test,Y_pred))"
   ]
  },
  {
   "cell_type": "code",
   "execution_count": 44,
   "id": "9cdb6c9e",
   "metadata": {},
   "outputs": [],
   "source": [
    "\n",
    "#!pip install tensorflow"
   ]
  },
  {
   "cell_type": "code",
   "execution_count": 45,
   "id": "b1cc61dc",
   "metadata": {},
   "outputs": [],
   "source": [
    "import tensorflow as tf"
   ]
  },
  {
   "cell_type": "code",
   "execution_count": 46,
   "id": "440fdf22",
   "metadata": {},
   "outputs": [],
   "source": [
    "from tensorflow.keras.models import Sequential\n",
    "from tensorflow.keras.layers import Dense\n",
    "from tensorflow.keras.layers import Dropout"
   ]
  },
  {
   "cell_type": "code",
   "execution_count": 47,
   "id": "b4696ee0",
   "metadata": {},
   "outputs": [],
   "source": [
    "#change in array\n",
    "X_train_cv=X_train_cv.toarray()\n",
    "X_test_cv=X_test_cv.toarray()"
   ]
  },
  {
   "cell_type": "code",
   "execution_count": 48,
   "id": "4e9efa3b",
   "metadata": {},
   "outputs": [
    {
     "data": {
      "text/plain": [
       "(3900, 5518)"
      ]
     },
     "execution_count": 48,
     "metadata": {},
     "output_type": "execute_result"
    }
   ],
   "source": [
    "X_train_cv.shape"
   ]
  },
  {
   "cell_type": "code",
   "execution_count": 49,
   "id": "f389235b",
   "metadata": {},
   "outputs": [
    {
     "data": {
      "text/plain": [
       "(1672, 5518)"
      ]
     },
     "execution_count": 49,
     "metadata": {},
     "output_type": "execute_result"
    }
   ],
   "source": [
    "X_test_cv.shape"
   ]
  },
  {
   "cell_type": "code",
   "execution_count": 50,
   "id": "c767e065",
   "metadata": {},
   "outputs": [],
   "source": [
    "model=Sequential()\n",
    "model.add(Dense(units=5518,activation='relu',input_shape=(X_train_cv.shape[1],)))  #1st hidden layer\n",
    "model.add(Dense(units=5518,activation='relu'))    #2nd hidden\n",
    "model.add(Dense(units=1,activation='sigmoid'))  #output layer "
   ]
  },
  {
   "cell_type": "code",
   "execution_count": 51,
   "id": "bc860632",
   "metadata": {},
   "outputs": [],
   "source": [
    "#compile\n",
    "model.compile(loss='binary_crossentropy',optimizer='adam',metrics=['accuracy'])"
   ]
  },
  {
   "cell_type": "code",
   "execution_count": 52,
   "id": "8a89ec83",
   "metadata": {},
   "outputs": [],
   "source": [
    "# Create Early stopping means create a call back\n",
    "from tensorflow.keras.callbacks import EarlyStopping\n",
    "callback = EarlyStopping(\n",
    "    monitor=\"val_loss\",\n",
    "    min_delta=0.00001,\n",
    "    patience=20,\n",
    "    verbose=1,\n",
    "    mode=\"auto\",\n",
    "    baseline=None,\n",
    "    restore_best_weights=False\n",
    ")"
   ]
  },
  {
   "cell_type": "code",
   "execution_count": 53,
   "id": "a455456a",
   "metadata": {},
   "outputs": [
    {
     "name": "stdout",
     "output_type": "stream",
     "text": [
      "Epoch 1/2000\n",
      "63/63 [==============================] - 91s 1s/step - loss: 0.1840 - accuracy: 0.9468 - val_loss: 0.0705 - val_accuracy: 0.9859\n",
      "Epoch 2/2000\n",
      "63/63 [==============================] - 77s 1s/step - loss: 0.0082 - accuracy: 0.9971 - val_loss: 0.0742 - val_accuracy: 0.9859\n",
      "Epoch 3/2000\n",
      "63/63 [==============================] - 77s 1s/step - loss: 0.0011 - accuracy: 1.0000 - val_loss: 0.0998 - val_accuracy: 0.9846\n",
      "Epoch 4/2000\n",
      "63/63 [==============================] - 76s 1s/step - loss: 2.4764e-04 - accuracy: 1.0000 - val_loss: 0.1014 - val_accuracy: 0.9846\n",
      "Epoch 5/2000\n",
      "63/63 [==============================] - 76s 1s/step - loss: 1.2518e-04 - accuracy: 1.0000 - val_loss: 0.1067 - val_accuracy: 0.9846\n",
      "Epoch 6/2000\n",
      "63/63 [==============================] - 79s 1s/step - loss: 7.5294e-05 - accuracy: 1.0000 - val_loss: 0.1125 - val_accuracy: 0.9846\n",
      "Epoch 7/2000\n",
      "63/63 [==============================] - 85s 1s/step - loss: 4.8920e-05 - accuracy: 1.0000 - val_loss: 0.1167 - val_accuracy: 0.9846\n",
      "Epoch 8/2000\n",
      "63/63 [==============================] - 89s 1s/step - loss: 3.2522e-05 - accuracy: 1.0000 - val_loss: 0.1220 - val_accuracy: 0.9833\n",
      "Epoch 9/2000\n",
      "63/63 [==============================] - 84s 1s/step - loss: 2.2338e-05 - accuracy: 1.0000 - val_loss: 0.1255 - val_accuracy: 0.9833\n",
      "Epoch 10/2000\n",
      "63/63 [==============================] - 76s 1s/step - loss: 1.6190e-05 - accuracy: 1.0000 - val_loss: 0.1302 - val_accuracy: 0.9833\n",
      "Epoch 11/2000\n",
      "63/63 [==============================] - 76s 1s/step - loss: 1.1870e-05 - accuracy: 1.0000 - val_loss: 0.1337 - val_accuracy: 0.9833\n",
      "Epoch 12/2000\n",
      "63/63 [==============================] - 78s 1s/step - loss: 9.2002e-06 - accuracy: 1.0000 - val_loss: 0.1375 - val_accuracy: 0.9833\n",
      "Epoch 13/2000\n",
      "63/63 [==============================] - 77s 1s/step - loss: 7.1259e-06 - accuracy: 1.0000 - val_loss: 0.1405 - val_accuracy: 0.9833\n",
      "Epoch 14/2000\n",
      "63/63 [==============================] - 76s 1s/step - loss: 5.7758e-06 - accuracy: 1.0000 - val_loss: 0.1439 - val_accuracy: 0.9833\n",
      "Epoch 15/2000\n",
      "63/63 [==============================] - 77s 1s/step - loss: 4.6986e-06 - accuracy: 1.0000 - val_loss: 0.1465 - val_accuracy: 0.9833\n",
      "Epoch 16/2000\n",
      "63/63 [==============================] - 76s 1s/step - loss: 3.8614e-06 - accuracy: 1.0000 - val_loss: 0.1500 - val_accuracy: 0.9833\n",
      "Epoch 17/2000\n",
      "63/63 [==============================] - 77s 1s/step - loss: 3.2457e-06 - accuracy: 1.0000 - val_loss: 0.1525 - val_accuracy: 0.9833\n",
      "Epoch 18/2000\n",
      "63/63 [==============================] - 77s 1s/step - loss: 2.7890e-06 - accuracy: 1.0000 - val_loss: 0.1548 - val_accuracy: 0.9846\n",
      "Epoch 19/2000\n",
      "63/63 [==============================] - 76s 1s/step - loss: 2.3933e-06 - accuracy: 1.0000 - val_loss: 0.1571 - val_accuracy: 0.9846\n",
      "Epoch 20/2000\n",
      "63/63 [==============================] - 77s 1s/step - loss: 2.0787e-06 - accuracy: 1.0000 - val_loss: 0.1587 - val_accuracy: 0.9846\n",
      "Epoch 21/2000\n",
      "63/63 [==============================] - 77s 1s/step - loss: 1.8397e-06 - accuracy: 1.0000 - val_loss: 0.1606 - val_accuracy: 0.9846\n",
      "Epoch 21: early stopping\n"
     ]
    },
    {
     "data": {
      "text/plain": [
       "<keras.callbacks.History at 0x1f58a4b1790>"
      ]
     },
     "execution_count": 53,
     "metadata": {},
     "output_type": "execute_result"
    }
   ],
   "source": [
    "model.fit(X_train_cv,Y_train,batch_size=50,epochs=2000,validation_split=0.2,callbacks=callback)"
   ]
  },
  {
   "cell_type": "code",
   "execution_count": 54,
   "id": "43e547a2",
   "metadata": {},
   "outputs": [
    {
     "name": "stdout",
     "output_type": "stream",
     "text": [
      "53/53 [==============================] - 14s 246ms/step\n"
     ]
    }
   ],
   "source": [
    "Y_pred=model.predict(X_test_cv).round(2)\n"
   ]
  },
  {
   "cell_type": "code",
   "execution_count": 55,
   "id": "95921e8e",
   "metadata": {},
   "outputs": [
    {
     "data": {
      "text/plain": [
       "array([[0.  ],\n",
       "       [0.  ],\n",
       "       [0.  ],\n",
       "       ...,\n",
       "       [0.99],\n",
       "       [0.  ],\n",
       "       [0.  ]], dtype=float32)"
      ]
     },
     "execution_count": 55,
     "metadata": {},
     "output_type": "execute_result"
    }
   ],
   "source": [
    "Y_pred"
   ]
  },
  {
   "cell_type": "code",
   "execution_count": 56,
   "id": "93654043",
   "metadata": {},
   "outputs": [
    {
     "data": {
      "text/plain": [
       "array([[0],\n",
       "       [0],\n",
       "       [0],\n",
       "       ...,\n",
       "       [1],\n",
       "       [0],\n",
       "       [0]])"
      ]
     },
     "execution_count": 56,
     "metadata": {},
     "output_type": "execute_result"
    }
   ],
   "source": [
    "Y_pred=np.where(Y_pred>=0.5,1,0)\n",
    "Y_pred"
   ]
  },
  {
   "cell_type": "code",
   "execution_count": 57,
   "id": "35435479",
   "metadata": {},
   "outputs": [
    {
     "name": "stdout",
     "output_type": "stream",
     "text": [
      "              precision    recall  f1-score   support\n",
      "\n",
      "           0       0.98      1.00      0.99      1454\n",
      "           1       0.96      0.84      0.90       218\n",
      "\n",
      "    accuracy                           0.97      1672\n",
      "   macro avg       0.97      0.92      0.94      1672\n",
      "weighted avg       0.97      0.97      0.97      1672\n",
      "\n",
      "[[1447    7]\n",
      " [  35  183]]\n"
     ]
    }
   ],
   "source": [
    "#print classification report\n",
    "from sklearn.metrics import classification_report,confusion_matrix\n",
    "print(classification_report(Y_test,Y_pred))\n",
    "print(confusion_matrix(Y_test,Y_pred))"
   ]
  },
  {
   "cell_type": "code",
   "execution_count": 58,
   "id": "e2492016",
   "metadata": {},
   "outputs": [],
   "source": [
    "#apply tfidf\n",
    "#change in array\n",
    "X_train_tf=X_train_tf.toarray()\n",
    "X_test_tf=X_test_tf.toarray()"
   ]
  },
  {
   "cell_type": "code",
   "execution_count": 59,
   "id": "a73eaed2",
   "metadata": {},
   "outputs": [
    {
     "data": {
      "text/plain": [
       "(3900, 5518)"
      ]
     },
     "execution_count": 59,
     "metadata": {},
     "output_type": "execute_result"
    }
   ],
   "source": [
    "X_train_tf.shape"
   ]
  },
  {
   "cell_type": "code",
   "execution_count": 60,
   "id": "7ea48241",
   "metadata": {},
   "outputs": [
    {
     "data": {
      "text/plain": [
       "(1672, 5518)"
      ]
     },
     "execution_count": 60,
     "metadata": {},
     "output_type": "execute_result"
    }
   ],
   "source": [
    "X_test_tf.shape"
   ]
  },
  {
   "cell_type": "code",
   "execution_count": 61,
   "id": "2e4559d4",
   "metadata": {},
   "outputs": [],
   "source": [
    "model=Sequential()\n",
    "model.add(Dense(units=5518,activation='relu',input_shape=(X_train_tf.shape[1],)))  #1st hidden layer\n",
    "model.add(Dense(units=5518,activation='relu'))    #2nd hidden\n",
    "model.add(Dense(units=1,activation='sigmoid'))  #output layer \n"
   ]
  },
  {
   "cell_type": "code",
   "execution_count": 62,
   "id": "d1d588e6",
   "metadata": {},
   "outputs": [],
   "source": [
    "#compile\n",
    "model.compile(loss='binary_crossentropy',optimizer='adam',metrics=['accuracy'])"
   ]
  },
  {
   "cell_type": "code",
   "execution_count": 63,
   "id": "35adc8b2",
   "metadata": {},
   "outputs": [
    {
     "name": "stdout",
     "output_type": "stream",
     "text": [
      "Epoch 1/20\n",
      "78/78 [==============================] - 109s 1s/step - loss: 0.1834 - accuracy: 0.9323\n",
      "Epoch 2/20\n",
      "78/78 [==============================] - 88s 1s/step - loss: 0.0178 - accuracy: 0.9944\n",
      "Epoch 3/20\n",
      "78/78 [==============================] - 88s 1s/step - loss: 0.0022 - accuracy: 0.9995\n",
      "Epoch 4/20\n",
      "78/78 [==============================] - 88s 1s/step - loss: 5.4319e-04 - accuracy: 1.0000\n",
      "Epoch 5/20\n",
      "78/78 [==============================] - 88s 1s/step - loss: 1.2721e-04 - accuracy: 1.0000\n",
      "Epoch 6/20\n",
      "78/78 [==============================] - 88s 1s/step - loss: 6.5786e-05 - accuracy: 1.0000\n",
      "Epoch 7/20\n",
      "78/78 [==============================] - 88s 1s/step - loss: 3.9942e-05 - accuracy: 1.0000\n",
      "Epoch 8/20\n",
      "78/78 [==============================] - 89s 1s/step - loss: 2.6739e-05 - accuracy: 1.0000\n",
      "Epoch 9/20\n",
      "78/78 [==============================] - 88s 1s/step - loss: 1.9065e-05 - accuracy: 1.0000\n",
      "Epoch 10/20\n",
      "78/78 [==============================] - 88s 1s/step - loss: 1.4075e-05 - accuracy: 1.0000\n",
      "Epoch 11/20\n",
      "78/78 [==============================] - 90s 1s/step - loss: 1.0725e-05 - accuracy: 1.0000\n",
      "Epoch 12/20\n",
      "78/78 [==============================] - 88s 1s/step - loss: 8.3152e-06 - accuracy: 1.0000\n",
      "Epoch 13/20\n",
      "78/78 [==============================] - 438s 6s/step - loss: 6.6134e-06 - accuracy: 1.0000\n",
      "Epoch 14/20\n",
      "78/78 [==============================] - 109s 1s/step - loss: 5.3354e-06 - accuracy: 1.0000\n",
      "Epoch 15/20\n",
      "78/78 [==============================] - 138s 2s/step - loss: 4.3923e-06 - accuracy: 1.0000\n",
      "Epoch 16/20\n",
      "78/78 [==============================] - 128s 2s/step - loss: 3.6646e-06 - accuracy: 1.0000\n",
      "Epoch 17/20\n",
      "78/78 [==============================] - 117s 1s/step - loss: 3.0841e-06 - accuracy: 1.0000\n",
      "Epoch 18/20\n",
      "78/78 [==============================] - 109s 1s/step - loss: 2.6259e-06 - accuracy: 1.0000\n",
      "Epoch 19/20\n",
      "78/78 [==============================] - 115s 1s/step - loss: 2.2591e-06 - accuracy: 1.0000\n",
      "Epoch 20/20\n",
      "78/78 [==============================] - 112s 1s/step - loss: 1.9553e-06 - accuracy: 1.0000\n"
     ]
    },
    {
     "data": {
      "text/plain": [
       "<keras.callbacks.History at 0x1f592b34cd0>"
      ]
     },
     "execution_count": 63,
     "metadata": {},
     "output_type": "execute_result"
    }
   ],
   "source": [
    "model.fit(X_train_tf,Y_train,batch_size=50,epochs=20)"
   ]
  },
  {
   "cell_type": "code",
   "execution_count": 64,
   "id": "d79899d8",
   "metadata": {},
   "outputs": [
    {
     "name": "stdout",
     "output_type": "stream",
     "text": [
      "53/53 [==============================] - 24s 282ms/step\n"
     ]
    },
    {
     "data": {
      "text/plain": [
       "array([[0.  ],\n",
       "       [0.  ],\n",
       "       [0.  ],\n",
       "       ...,\n",
       "       [0.35],\n",
       "       [0.  ],\n",
       "       [0.  ]], dtype=float32)"
      ]
     },
     "execution_count": 64,
     "metadata": {},
     "output_type": "execute_result"
    }
   ],
   "source": [
    "#test with 30%data\n",
    "Y_pred=model.predict(X_test_tf).round(2)\n",
    "Y_pred"
   ]
  },
  {
   "cell_type": "code",
   "execution_count": 65,
   "id": "5a8c2d41",
   "metadata": {},
   "outputs": [
    {
     "data": {
      "text/plain": [
       "array([[0],\n",
       "       [0],\n",
       "       [0],\n",
       "       ...,\n",
       "       [0],\n",
       "       [0],\n",
       "       [0]])"
      ]
     },
     "execution_count": 65,
     "metadata": {},
     "output_type": "execute_result"
    }
   ],
   "source": [
    "Y_pred=np.where(Y_pred>=0.5,1,0)\n",
    "Y_pred"
   ]
  },
  {
   "cell_type": "code",
   "execution_count": 66,
   "id": "9bff08e3",
   "metadata": {},
   "outputs": [
    {
     "name": "stdout",
     "output_type": "stream",
     "text": [
      "              precision    recall  f1-score   support\n",
      "\n",
      "           0       0.98      1.00      0.99      1454\n",
      "           1       0.98      0.85      0.91       218\n",
      "\n",
      "    accuracy                           0.98      1672\n",
      "   macro avg       0.98      0.92      0.95      1672\n",
      "weighted avg       0.98      0.98      0.98      1672\n",
      "\n",
      "[[1450    4]\n",
      " [  33  185]]\n"
     ]
    }
   ],
   "source": [
    "#print classification report\n",
    "from sklearn.metrics import classification_report,confusion_matrix\n",
    "print(classification_report(Y_test,Y_pred))\n",
    "print(confusion_matrix(Y_test,Y_pred))"
   ]
  }
 ],
 "metadata": {
  "kernelspec": {
   "display_name": "Python 3 (ipykernel)",
   "language": "python",
   "name": "python3"
  },
  "language_info": {
   "codemirror_mode": {
    "name": "ipython",
    "version": 3
   },
   "file_extension": ".py",
   "mimetype": "text/x-python",
   "name": "python",
   "nbconvert_exporter": "python",
   "pygments_lexer": "ipython3",
   "version": "3.8.8"
  }
 },
 "nbformat": 4,
 "nbformat_minor": 5
}
